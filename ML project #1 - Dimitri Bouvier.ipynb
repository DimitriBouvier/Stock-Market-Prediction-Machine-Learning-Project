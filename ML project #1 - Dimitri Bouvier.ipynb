{
 "cells": [
  {
   "cell_type": "code",
   "execution_count": 1,
   "metadata": {},
   "outputs": [],
   "source": [
    "import pandas as pd\n",
    "import datetime\n",
    "import numpy as np\n",
    "from sklearn import metrics\n",
    "from sklearn.metrics import roc_curve, roc_auc_score"
   ]
  },
  {
   "cell_type": "markdown",
   "metadata": {},
   "source": [
    "# Importing data"
   ]
  },
  {
   "cell_type": "code",
   "execution_count": 2,
   "metadata": {},
   "outputs": [
    {
     "name": "stdout",
     "output_type": "stream",
     "text": [
      "<class 'pandas.core.frame.DataFrame'>\n",
      "RangeIndex: 1762 entries, 0 to 1761\n",
      "Data columns (total 7 columns):\n",
      " #   Column     Non-Null Count  Dtype  \n",
      "---  ------     --------------  -----  \n",
      " 0   Date       1762 non-null   object \n",
      " 1   Open       1762 non-null   float64\n",
      " 2   High       1762 non-null   float64\n",
      " 3   Low        1762 non-null   float64\n",
      " 4   Close      1762 non-null   float64\n",
      " 5   Adj Close  1762 non-null   float64\n",
      " 6   Volume     1762 non-null   int64  \n",
      "dtypes: float64(5), int64(1), object(1)\n",
      "memory usage: 96.5+ KB\n"
     ]
    }
   ],
   "source": [
    "tsla = pd.read_csv('C:/Users/dimit/Downloads/TSLA.csv')\n",
    "tsla.info()"
   ]
  },
  {
   "cell_type": "code",
   "execution_count": 3,
   "metadata": {},
   "outputs": [],
   "source": [
    "tsla.set_index(\"Date\",inplace = True)"
   ]
  },
  {
   "cell_type": "code",
   "execution_count": 4,
   "metadata": {},
   "outputs": [
    {
     "data": {
      "text/html": [
       "<div>\n",
       "<style scoped>\n",
       "    .dataframe tbody tr th:only-of-type {\n",
       "        vertical-align: middle;\n",
       "    }\n",
       "\n",
       "    .dataframe tbody tr th {\n",
       "        vertical-align: top;\n",
       "    }\n",
       "\n",
       "    .dataframe thead th {\n",
       "        text-align: right;\n",
       "    }\n",
       "</style>\n",
       "<table border=\"1\" class=\"dataframe\">\n",
       "  <thead>\n",
       "    <tr style=\"text-align: right;\">\n",
       "      <th></th>\n",
       "      <th>Open</th>\n",
       "      <th>High</th>\n",
       "      <th>Low</th>\n",
       "      <th>Close</th>\n",
       "      <th>Adj Close</th>\n",
       "      <th>Volume</th>\n",
       "    </tr>\n",
       "    <tr>\n",
       "      <th>Date</th>\n",
       "      <th></th>\n",
       "      <th></th>\n",
       "      <th></th>\n",
       "      <th></th>\n",
       "      <th></th>\n",
       "      <th></th>\n",
       "    </tr>\n",
       "  </thead>\n",
       "  <tbody>\n",
       "    <tr>\n",
       "      <th>2015-01-02</th>\n",
       "      <td>44.574001</td>\n",
       "      <td>44.650002</td>\n",
       "      <td>42.652000</td>\n",
       "      <td>43.862000</td>\n",
       "      <td>43.862000</td>\n",
       "      <td>23822000</td>\n",
       "    </tr>\n",
       "    <tr>\n",
       "      <th>2015-01-05</th>\n",
       "      <td>42.910000</td>\n",
       "      <td>43.299999</td>\n",
       "      <td>41.431999</td>\n",
       "      <td>42.018002</td>\n",
       "      <td>42.018002</td>\n",
       "      <td>26842500</td>\n",
       "    </tr>\n",
       "    <tr>\n",
       "      <th>2015-01-06</th>\n",
       "      <td>42.012001</td>\n",
       "      <td>42.840000</td>\n",
       "      <td>40.841999</td>\n",
       "      <td>42.256001</td>\n",
       "      <td>42.256001</td>\n",
       "      <td>31309500</td>\n",
       "    </tr>\n",
       "    <tr>\n",
       "      <th>2015-01-07</th>\n",
       "      <td>42.669998</td>\n",
       "      <td>42.956001</td>\n",
       "      <td>41.956001</td>\n",
       "      <td>42.189999</td>\n",
       "      <td>42.189999</td>\n",
       "      <td>14842000</td>\n",
       "    </tr>\n",
       "    <tr>\n",
       "      <th>2015-01-08</th>\n",
       "      <td>42.562000</td>\n",
       "      <td>42.759998</td>\n",
       "      <td>42.001999</td>\n",
       "      <td>42.124001</td>\n",
       "      <td>42.124001</td>\n",
       "      <td>17212500</td>\n",
       "    </tr>\n",
       "    <tr>\n",
       "      <th>...</th>\n",
       "      <td>...</td>\n",
       "      <td>...</td>\n",
       "      <td>...</td>\n",
       "      <td>...</td>\n",
       "      <td>...</td>\n",
       "      <td>...</td>\n",
       "    </tr>\n",
       "    <tr>\n",
       "      <th>2021-12-23</th>\n",
       "      <td>1006.799988</td>\n",
       "      <td>1072.979980</td>\n",
       "      <td>997.559998</td>\n",
       "      <td>1067.000000</td>\n",
       "      <td>1067.000000</td>\n",
       "      <td>30904400</td>\n",
       "    </tr>\n",
       "    <tr>\n",
       "      <th>2021-12-27</th>\n",
       "      <td>1073.670044</td>\n",
       "      <td>1117.000000</td>\n",
       "      <td>1070.719971</td>\n",
       "      <td>1093.939941</td>\n",
       "      <td>1093.939941</td>\n",
       "      <td>23715300</td>\n",
       "    </tr>\n",
       "    <tr>\n",
       "      <th>2021-12-28</th>\n",
       "      <td>1109.489990</td>\n",
       "      <td>1119.000000</td>\n",
       "      <td>1078.420044</td>\n",
       "      <td>1088.469971</td>\n",
       "      <td>1088.469971</td>\n",
       "      <td>20108000</td>\n",
       "    </tr>\n",
       "    <tr>\n",
       "      <th>2021-12-29</th>\n",
       "      <td>1098.640015</td>\n",
       "      <td>1104.000000</td>\n",
       "      <td>1064.140015</td>\n",
       "      <td>1086.189941</td>\n",
       "      <td>1086.189941</td>\n",
       "      <td>18718000</td>\n",
       "    </tr>\n",
       "    <tr>\n",
       "      <th>2021-12-30</th>\n",
       "      <td>1061.329956</td>\n",
       "      <td>1095.550049</td>\n",
       "      <td>1053.150024</td>\n",
       "      <td>1070.339966</td>\n",
       "      <td>1070.339966</td>\n",
       "      <td>15680300</td>\n",
       "    </tr>\n",
       "  </tbody>\n",
       "</table>\n",
       "<p>1762 rows × 6 columns</p>\n",
       "</div>"
      ],
      "text/plain": [
       "                   Open         High          Low        Close    Adj Close  \\\n",
       "Date                                                                          \n",
       "2015-01-02    44.574001    44.650002    42.652000    43.862000    43.862000   \n",
       "2015-01-05    42.910000    43.299999    41.431999    42.018002    42.018002   \n",
       "2015-01-06    42.012001    42.840000    40.841999    42.256001    42.256001   \n",
       "2015-01-07    42.669998    42.956001    41.956001    42.189999    42.189999   \n",
       "2015-01-08    42.562000    42.759998    42.001999    42.124001    42.124001   \n",
       "...                 ...          ...          ...          ...          ...   \n",
       "2021-12-23  1006.799988  1072.979980   997.559998  1067.000000  1067.000000   \n",
       "2021-12-27  1073.670044  1117.000000  1070.719971  1093.939941  1093.939941   \n",
       "2021-12-28  1109.489990  1119.000000  1078.420044  1088.469971  1088.469971   \n",
       "2021-12-29  1098.640015  1104.000000  1064.140015  1086.189941  1086.189941   \n",
       "2021-12-30  1061.329956  1095.550049  1053.150024  1070.339966  1070.339966   \n",
       "\n",
       "              Volume  \n",
       "Date                  \n",
       "2015-01-02  23822000  \n",
       "2015-01-05  26842500  \n",
       "2015-01-06  31309500  \n",
       "2015-01-07  14842000  \n",
       "2015-01-08  17212500  \n",
       "...              ...  \n",
       "2021-12-23  30904400  \n",
       "2021-12-27  23715300  \n",
       "2021-12-28  20108000  \n",
       "2021-12-29  18718000  \n",
       "2021-12-30  15680300  \n",
       "\n",
       "[1762 rows x 6 columns]"
      ]
     },
     "execution_count": 4,
     "metadata": {},
     "output_type": "execute_result"
    }
   ],
   "source": [
    "tsla"
   ]
  },
  {
   "cell_type": "markdown",
   "metadata": {},
   "source": [
    "# Labelling the dataset for the trading strategies - setting target variable y"
   ]
  },
  {
   "cell_type": "markdown",
   "metadata": {},
   "source": [
    "## Strategy 1"
   ]
  },
  {
   "cell_type": "code",
   "execution_count": 5,
   "metadata": {},
   "outputs": [],
   "source": [
    "df1 = tsla.copy()"
   ]
  },
  {
   "cell_type": "code",
   "execution_count": 6,
   "metadata": {},
   "outputs": [],
   "source": [
    "df1['Adj Close next day'] = df1['Adj Close'].shift(periods=-1)"
   ]
  },
  {
   "cell_type": "code",
   "execution_count": 7,
   "metadata": {},
   "outputs": [
    {
     "data": {
      "text/html": [
       "<div>\n",
       "<style scoped>\n",
       "    .dataframe tbody tr th:only-of-type {\n",
       "        vertical-align: middle;\n",
       "    }\n",
       "\n",
       "    .dataframe tbody tr th {\n",
       "        vertical-align: top;\n",
       "    }\n",
       "\n",
       "    .dataframe thead th {\n",
       "        text-align: right;\n",
       "    }\n",
       "</style>\n",
       "<table border=\"1\" class=\"dataframe\">\n",
       "  <thead>\n",
       "    <tr style=\"text-align: right;\">\n",
       "      <th></th>\n",
       "      <th>Open</th>\n",
       "      <th>High</th>\n",
       "      <th>Low</th>\n",
       "      <th>Close</th>\n",
       "      <th>Adj Close</th>\n",
       "      <th>Volume</th>\n",
       "      <th>Adj Close next day</th>\n",
       "    </tr>\n",
       "    <tr>\n",
       "      <th>Date</th>\n",
       "      <th></th>\n",
       "      <th></th>\n",
       "      <th></th>\n",
       "      <th></th>\n",
       "      <th></th>\n",
       "      <th></th>\n",
       "      <th></th>\n",
       "    </tr>\n",
       "  </thead>\n",
       "  <tbody>\n",
       "    <tr>\n",
       "      <th>2015-01-02</th>\n",
       "      <td>44.574001</td>\n",
       "      <td>44.650002</td>\n",
       "      <td>42.652000</td>\n",
       "      <td>43.862000</td>\n",
       "      <td>43.862000</td>\n",
       "      <td>23822000</td>\n",
       "      <td>42.018002</td>\n",
       "    </tr>\n",
       "    <tr>\n",
       "      <th>2015-01-05</th>\n",
       "      <td>42.910000</td>\n",
       "      <td>43.299999</td>\n",
       "      <td>41.431999</td>\n",
       "      <td>42.018002</td>\n",
       "      <td>42.018002</td>\n",
       "      <td>26842500</td>\n",
       "      <td>42.256001</td>\n",
       "    </tr>\n",
       "    <tr>\n",
       "      <th>2015-01-06</th>\n",
       "      <td>42.012001</td>\n",
       "      <td>42.840000</td>\n",
       "      <td>40.841999</td>\n",
       "      <td>42.256001</td>\n",
       "      <td>42.256001</td>\n",
       "      <td>31309500</td>\n",
       "      <td>42.189999</td>\n",
       "    </tr>\n",
       "    <tr>\n",
       "      <th>2015-01-07</th>\n",
       "      <td>42.669998</td>\n",
       "      <td>42.956001</td>\n",
       "      <td>41.956001</td>\n",
       "      <td>42.189999</td>\n",
       "      <td>42.189999</td>\n",
       "      <td>14842000</td>\n",
       "      <td>42.124001</td>\n",
       "    </tr>\n",
       "    <tr>\n",
       "      <th>2015-01-08</th>\n",
       "      <td>42.562000</td>\n",
       "      <td>42.759998</td>\n",
       "      <td>42.001999</td>\n",
       "      <td>42.124001</td>\n",
       "      <td>42.124001</td>\n",
       "      <td>17212500</td>\n",
       "      <td>41.332001</td>\n",
       "    </tr>\n",
       "  </tbody>\n",
       "</table>\n",
       "</div>"
      ],
      "text/plain": [
       "                 Open       High        Low      Close  Adj Close    Volume  \\\n",
       "Date                                                                          \n",
       "2015-01-02  44.574001  44.650002  42.652000  43.862000  43.862000  23822000   \n",
       "2015-01-05  42.910000  43.299999  41.431999  42.018002  42.018002  26842500   \n",
       "2015-01-06  42.012001  42.840000  40.841999  42.256001  42.256001  31309500   \n",
       "2015-01-07  42.669998  42.956001  41.956001  42.189999  42.189999  14842000   \n",
       "2015-01-08  42.562000  42.759998  42.001999  42.124001  42.124001  17212500   \n",
       "\n",
       "            Adj Close next day  \n",
       "Date                            \n",
       "2015-01-02           42.018002  \n",
       "2015-01-05           42.256001  \n",
       "2015-01-06           42.189999  \n",
       "2015-01-07           42.124001  \n",
       "2015-01-08           41.332001  "
      ]
     },
     "execution_count": 7,
     "metadata": {},
     "output_type": "execute_result"
    }
   ],
   "source": [
    "df1.head()"
   ]
  },
  {
   "cell_type": "code",
   "execution_count": 8,
   "metadata": {},
   "outputs": [],
   "source": [
    "df1['y'] = 0"
   ]
  },
  {
   "cell_type": "code",
   "execution_count": 9,
   "metadata": {},
   "outputs": [],
   "source": [
    "df1['y'] = np.where(df1['Adj Close'].shift(-1)>df1['Adj Close'],1,-1)"
   ]
  },
  {
   "cell_type": "code",
   "execution_count": 10,
   "metadata": {},
   "outputs": [
    {
     "data": {
      "text/html": [
       "<div>\n",
       "<style scoped>\n",
       "    .dataframe tbody tr th:only-of-type {\n",
       "        vertical-align: middle;\n",
       "    }\n",
       "\n",
       "    .dataframe tbody tr th {\n",
       "        vertical-align: top;\n",
       "    }\n",
       "\n",
       "    .dataframe thead th {\n",
       "        text-align: right;\n",
       "    }\n",
       "</style>\n",
       "<table border=\"1\" class=\"dataframe\">\n",
       "  <thead>\n",
       "    <tr style=\"text-align: right;\">\n",
       "      <th></th>\n",
       "      <th>Open</th>\n",
       "      <th>High</th>\n",
       "      <th>Low</th>\n",
       "      <th>Close</th>\n",
       "      <th>Adj Close</th>\n",
       "      <th>Volume</th>\n",
       "      <th>Adj Close next day</th>\n",
       "      <th>y</th>\n",
       "    </tr>\n",
       "    <tr>\n",
       "      <th>Date</th>\n",
       "      <th></th>\n",
       "      <th></th>\n",
       "      <th></th>\n",
       "      <th></th>\n",
       "      <th></th>\n",
       "      <th></th>\n",
       "      <th></th>\n",
       "      <th></th>\n",
       "    </tr>\n",
       "  </thead>\n",
       "  <tbody>\n",
       "    <tr>\n",
       "      <th>2015-01-02</th>\n",
       "      <td>44.574001</td>\n",
       "      <td>44.650002</td>\n",
       "      <td>42.652000</td>\n",
       "      <td>43.862000</td>\n",
       "      <td>43.862000</td>\n",
       "      <td>23822000</td>\n",
       "      <td>42.018002</td>\n",
       "      <td>-1</td>\n",
       "    </tr>\n",
       "    <tr>\n",
       "      <th>2015-01-05</th>\n",
       "      <td>42.910000</td>\n",
       "      <td>43.299999</td>\n",
       "      <td>41.431999</td>\n",
       "      <td>42.018002</td>\n",
       "      <td>42.018002</td>\n",
       "      <td>26842500</td>\n",
       "      <td>42.256001</td>\n",
       "      <td>1</td>\n",
       "    </tr>\n",
       "    <tr>\n",
       "      <th>2015-01-06</th>\n",
       "      <td>42.012001</td>\n",
       "      <td>42.840000</td>\n",
       "      <td>40.841999</td>\n",
       "      <td>42.256001</td>\n",
       "      <td>42.256001</td>\n",
       "      <td>31309500</td>\n",
       "      <td>42.189999</td>\n",
       "      <td>-1</td>\n",
       "    </tr>\n",
       "    <tr>\n",
       "      <th>2015-01-07</th>\n",
       "      <td>42.669998</td>\n",
       "      <td>42.956001</td>\n",
       "      <td>41.956001</td>\n",
       "      <td>42.189999</td>\n",
       "      <td>42.189999</td>\n",
       "      <td>14842000</td>\n",
       "      <td>42.124001</td>\n",
       "      <td>-1</td>\n",
       "    </tr>\n",
       "    <tr>\n",
       "      <th>2015-01-08</th>\n",
       "      <td>42.562000</td>\n",
       "      <td>42.759998</td>\n",
       "      <td>42.001999</td>\n",
       "      <td>42.124001</td>\n",
       "      <td>42.124001</td>\n",
       "      <td>17212500</td>\n",
       "      <td>41.332001</td>\n",
       "      <td>-1</td>\n",
       "    </tr>\n",
       "    <tr>\n",
       "      <th>...</th>\n",
       "      <td>...</td>\n",
       "      <td>...</td>\n",
       "      <td>...</td>\n",
       "      <td>...</td>\n",
       "      <td>...</td>\n",
       "      <td>...</td>\n",
       "      <td>...</td>\n",
       "      <td>...</td>\n",
       "    </tr>\n",
       "    <tr>\n",
       "      <th>2021-12-23</th>\n",
       "      <td>1006.799988</td>\n",
       "      <td>1072.979980</td>\n",
       "      <td>997.559998</td>\n",
       "      <td>1067.000000</td>\n",
       "      <td>1067.000000</td>\n",
       "      <td>30904400</td>\n",
       "      <td>1093.939941</td>\n",
       "      <td>1</td>\n",
       "    </tr>\n",
       "    <tr>\n",
       "      <th>2021-12-27</th>\n",
       "      <td>1073.670044</td>\n",
       "      <td>1117.000000</td>\n",
       "      <td>1070.719971</td>\n",
       "      <td>1093.939941</td>\n",
       "      <td>1093.939941</td>\n",
       "      <td>23715300</td>\n",
       "      <td>1088.469971</td>\n",
       "      <td>-1</td>\n",
       "    </tr>\n",
       "    <tr>\n",
       "      <th>2021-12-28</th>\n",
       "      <td>1109.489990</td>\n",
       "      <td>1119.000000</td>\n",
       "      <td>1078.420044</td>\n",
       "      <td>1088.469971</td>\n",
       "      <td>1088.469971</td>\n",
       "      <td>20108000</td>\n",
       "      <td>1086.189941</td>\n",
       "      <td>-1</td>\n",
       "    </tr>\n",
       "    <tr>\n",
       "      <th>2021-12-29</th>\n",
       "      <td>1098.640015</td>\n",
       "      <td>1104.000000</td>\n",
       "      <td>1064.140015</td>\n",
       "      <td>1086.189941</td>\n",
       "      <td>1086.189941</td>\n",
       "      <td>18718000</td>\n",
       "      <td>1070.339966</td>\n",
       "      <td>-1</td>\n",
       "    </tr>\n",
       "    <tr>\n",
       "      <th>2021-12-30</th>\n",
       "      <td>1061.329956</td>\n",
       "      <td>1095.550049</td>\n",
       "      <td>1053.150024</td>\n",
       "      <td>1070.339966</td>\n",
       "      <td>1070.339966</td>\n",
       "      <td>15680300</td>\n",
       "      <td>NaN</td>\n",
       "      <td>-1</td>\n",
       "    </tr>\n",
       "  </tbody>\n",
       "</table>\n",
       "<p>1762 rows × 8 columns</p>\n",
       "</div>"
      ],
      "text/plain": [
       "                   Open         High          Low        Close    Adj Close  \\\n",
       "Date                                                                          \n",
       "2015-01-02    44.574001    44.650002    42.652000    43.862000    43.862000   \n",
       "2015-01-05    42.910000    43.299999    41.431999    42.018002    42.018002   \n",
       "2015-01-06    42.012001    42.840000    40.841999    42.256001    42.256001   \n",
       "2015-01-07    42.669998    42.956001    41.956001    42.189999    42.189999   \n",
       "2015-01-08    42.562000    42.759998    42.001999    42.124001    42.124001   \n",
       "...                 ...          ...          ...          ...          ...   \n",
       "2021-12-23  1006.799988  1072.979980   997.559998  1067.000000  1067.000000   \n",
       "2021-12-27  1073.670044  1117.000000  1070.719971  1093.939941  1093.939941   \n",
       "2021-12-28  1109.489990  1119.000000  1078.420044  1088.469971  1088.469971   \n",
       "2021-12-29  1098.640015  1104.000000  1064.140015  1086.189941  1086.189941   \n",
       "2021-12-30  1061.329956  1095.550049  1053.150024  1070.339966  1070.339966   \n",
       "\n",
       "              Volume  Adj Close next day  y  \n",
       "Date                                         \n",
       "2015-01-02  23822000           42.018002 -1  \n",
       "2015-01-05  26842500           42.256001  1  \n",
       "2015-01-06  31309500           42.189999 -1  \n",
       "2015-01-07  14842000           42.124001 -1  \n",
       "2015-01-08  17212500           41.332001 -1  \n",
       "...              ...                 ... ..  \n",
       "2021-12-23  30904400         1093.939941  1  \n",
       "2021-12-27  23715300         1088.469971 -1  \n",
       "2021-12-28  20108000         1086.189941 -1  \n",
       "2021-12-29  18718000         1070.339966 -1  \n",
       "2021-12-30  15680300                 NaN -1  \n",
       "\n",
       "[1762 rows x 8 columns]"
      ]
     },
     "execution_count": 10,
     "metadata": {},
     "output_type": "execute_result"
    }
   ],
   "source": [
    "df1"
   ]
  },
  {
   "cell_type": "markdown",
   "metadata": {},
   "source": [
    "## Strategy 2"
   ]
  },
  {
   "cell_type": "code",
   "execution_count": 11,
   "metadata": {},
   "outputs": [],
   "source": [
    "df2 = tsla.copy()"
   ]
  },
  {
   "cell_type": "code",
   "execution_count": 12,
   "metadata": {},
   "outputs": [
    {
     "data": {
      "text/plain": [
       "<AxesSubplot:xlabel='Date'>"
      ]
     },
     "execution_count": 12,
     "metadata": {},
     "output_type": "execute_result"
    },
    {
     "data": {
      "image/png": "[encoded data removed]",
      "text/plain": [
       "<Figure size 1152x432 with 1 Axes>"
      ]
     },
     "metadata": {
      "needs_background": "light"
     },
     "output_type": "display_data"
    }
   ],
   "source": [
    "df2[\"Adj Close\"].plot(figsize = (16,6))"
   ]
  },
  {
   "cell_type": "code",
   "execution_count": 13,
   "metadata": {},
   "outputs": [
    {
     "data": {
      "text/plain": [
       "<AxesSubplot:xlabel='Date'>"
      ]
     },
     "execution_count": 13,
     "metadata": {},
     "output_type": "execute_result"
    },
    {
     "data": {
      "image/png": "[encoded data removed]",
      "text/plain": [
       "<Figure size 1152x432 with 1 Axes>"
      ]
     },
     "metadata": {
      "needs_background": "light"
     },
     "output_type": "display_data"
    }
   ],
   "source": [
    "df2[\"Adj Close\"].plot()\n",
    "df2.rolling(50).mean()[\"Adj Close\"].plot(figsize=(16,6))\n",
    "df2.rolling(200).mean()[\"Adj Close\"].plot(figsize=(16,6))"
   ]
  },
  {
   "cell_type": "code",
   "execution_count": 14,
   "metadata": {},
   "outputs": [
    {
     "data": {
      "text/html": [
       "<div>\n",
       "<style scoped>\n",
       "    .dataframe tbody tr th:only-of-type {\n",
       "        vertical-align: middle;\n",
       "    }\n",
       "\n",
       "    .dataframe tbody tr th {\n",
       "        vertical-align: top;\n",
       "    }\n",
       "\n",
       "    .dataframe thead th {\n",
       "        text-align: right;\n",
       "    }\n",
       "</style>\n",
       "<table border=\"1\" class=\"dataframe\">\n",
       "  <thead>\n",
       "    <tr style=\"text-align: right;\">\n",
       "      <th></th>\n",
       "      <th>Open</th>\n",
       "      <th>High</th>\n",
       "      <th>Low</th>\n",
       "      <th>Close</th>\n",
       "      <th>Adj Close</th>\n",
       "      <th>Volume</th>\n",
       "      <th>50DMA</th>\n",
       "      <th>200DMA</th>\n",
       "    </tr>\n",
       "    <tr>\n",
       "      <th>Date</th>\n",
       "      <th></th>\n",
       "      <th></th>\n",
       "      <th></th>\n",
       "      <th></th>\n",
       "      <th></th>\n",
       "      <th></th>\n",
       "      <th></th>\n",
       "      <th></th>\n",
       "    </tr>\n",
       "  </thead>\n",
       "  <tbody>\n",
       "    <tr>\n",
       "      <th>2015-01-02</th>\n",
       "      <td>44.574001</td>\n",
       "      <td>44.650002</td>\n",
       "      <td>42.652000</td>\n",
       "      <td>43.862000</td>\n",
       "      <td>43.862000</td>\n",
       "      <td>23822000</td>\n",
       "      <td>NaN</td>\n",
       "      <td>NaN</td>\n",
       "    </tr>\n",
       "    <tr>\n",
       "      <th>2015-01-05</th>\n",
       "      <td>42.910000</td>\n",
       "      <td>43.299999</td>\n",
       "      <td>41.431999</td>\n",
       "      <td>42.018002</td>\n",
       "      <td>42.018002</td>\n",
       "      <td>26842500</td>\n",
       "      <td>NaN</td>\n",
       "      <td>NaN</td>\n",
       "    </tr>\n",
       "    <tr>\n",
       "      <th>2015-01-06</th>\n",
       "      <td>42.012001</td>\n",
       "      <td>42.840000</td>\n",
       "      <td>40.841999</td>\n",
       "      <td>42.256001</td>\n",
       "      <td>42.256001</td>\n",
       "      <td>31309500</td>\n",
       "      <td>NaN</td>\n",
       "      <td>NaN</td>\n",
       "    </tr>\n",
       "    <tr>\n",
       "      <th>2015-01-07</th>\n",
       "      <td>42.669998</td>\n",
       "      <td>42.956001</td>\n",
       "      <td>41.956001</td>\n",
       "      <td>42.189999</td>\n",
       "      <td>42.189999</td>\n",
       "      <td>14842000</td>\n",
       "      <td>NaN</td>\n",
       "      <td>NaN</td>\n",
       "    </tr>\n",
       "    <tr>\n",
       "      <th>2015-01-08</th>\n",
       "      <td>42.562000</td>\n",
       "      <td>42.759998</td>\n",
       "      <td>42.001999</td>\n",
       "      <td>42.124001</td>\n",
       "      <td>42.124001</td>\n",
       "      <td>17212500</td>\n",
       "      <td>NaN</td>\n",
       "      <td>NaN</td>\n",
       "    </tr>\n",
       "    <tr>\n",
       "      <th>...</th>\n",
       "      <td>...</td>\n",
       "      <td>...</td>\n",
       "      <td>...</td>\n",
       "      <td>...</td>\n",
       "      <td>...</td>\n",
       "      <td>...</td>\n",
       "      <td>...</td>\n",
       "      <td>...</td>\n",
       "    </tr>\n",
       "    <tr>\n",
       "      <th>2021-12-23</th>\n",
       "      <td>1006.799988</td>\n",
       "      <td>1072.979980</td>\n",
       "      <td>997.559998</td>\n",
       "      <td>1067.000000</td>\n",
       "      <td>1067.000000</td>\n",
       "      <td>30904400</td>\n",
       "      <td>1037.823400</td>\n",
       "      <td>772.216549</td>\n",
       "    </tr>\n",
       "    <tr>\n",
       "      <th>2021-12-27</th>\n",
       "      <td>1073.670044</td>\n",
       "      <td>1117.000000</td>\n",
       "      <td>1070.719971</td>\n",
       "      <td>1093.939941</td>\n",
       "      <td>1093.939941</td>\n",
       "      <td>23715300</td>\n",
       "      <td>1043.335798</td>\n",
       "      <td>774.217599</td>\n",
       "    </tr>\n",
       "    <tr>\n",
       "      <th>2021-12-28</th>\n",
       "      <td>1109.489990</td>\n",
       "      <td>1119.000000</td>\n",
       "      <td>1078.420044</td>\n",
       "      <td>1088.469971</td>\n",
       "      <td>1088.469971</td>\n",
       "      <td>20108000</td>\n",
       "      <td>1048.244597</td>\n",
       "      <td>776.120248</td>\n",
       "    </tr>\n",
       "    <tr>\n",
       "      <th>2021-12-29</th>\n",
       "      <td>1098.640015</td>\n",
       "      <td>1104.000000</td>\n",
       "      <td>1064.140015</td>\n",
       "      <td>1086.189941</td>\n",
       "      <td>1086.189941</td>\n",
       "      <td>18718000</td>\n",
       "      <td>1052.566196</td>\n",
       "      <td>778.166798</td>\n",
       "    </tr>\n",
       "    <tr>\n",
       "      <th>2021-12-30</th>\n",
       "      <td>1061.329956</td>\n",
       "      <td>1095.550049</td>\n",
       "      <td>1053.150024</td>\n",
       "      <td>1070.339966</td>\n",
       "      <td>1070.339966</td>\n",
       "      <td>15680300</td>\n",
       "      <td>1056.687595</td>\n",
       "      <td>780.009448</td>\n",
       "    </tr>\n",
       "  </tbody>\n",
       "</table>\n",
       "<p>1762 rows × 8 columns</p>\n",
       "</div>"
      ],
      "text/plain": [
       "                   Open         High          Low        Close    Adj Close  \\\n",
       "Date                                                                          \n",
       "2015-01-02    44.574001    44.650002    42.652000    43.862000    43.862000   \n",
       "2015-01-05    42.910000    43.299999    41.431999    42.018002    42.018002   \n",
       "2015-01-06    42.012001    42.840000    40.841999    42.256001    42.256001   \n",
       "2015-01-07    42.669998    42.956001    41.956001    42.189999    42.189999   \n",
       "2015-01-08    42.562000    42.759998    42.001999    42.124001    42.124001   \n",
       "...                 ...          ...          ...          ...          ...   \n",
       "2021-12-23  1006.799988  1072.979980   997.559998  1067.000000  1067.000000   \n",
       "2021-12-27  1073.670044  1117.000000  1070.719971  1093.939941  1093.939941   \n",
       "2021-12-28  1109.489990  1119.000000  1078.420044  1088.469971  1088.469971   \n",
       "2021-12-29  1098.640015  1104.000000  1064.140015  1086.189941  1086.189941   \n",
       "2021-12-30  1061.329956  1095.550049  1053.150024  1070.339966  1070.339966   \n",
       "\n",
       "              Volume        50DMA      200DMA  \n",
       "Date                                           \n",
       "2015-01-02  23822000          NaN         NaN  \n",
       "2015-01-05  26842500          NaN         NaN  \n",
       "2015-01-06  31309500          NaN         NaN  \n",
       "2015-01-07  14842000          NaN         NaN  \n",
       "2015-01-08  17212500          NaN         NaN  \n",
       "...              ...          ...         ...  \n",
       "2021-12-23  30904400  1037.823400  772.216549  \n",
       "2021-12-27  23715300  1043.335798  774.217599  \n",
       "2021-12-28  20108000  1048.244597  776.120248  \n",
       "2021-12-29  18718000  1052.566196  778.166798  \n",
       "2021-12-30  15680300  1056.687595  780.009448  \n",
       "\n",
       "[1762 rows x 8 columns]"
      ]
     },
     "execution_count": 14,
     "metadata": {},
     "output_type": "execute_result"
    }
   ],
   "source": [
    "df2['50DMA'] = df2[\"Adj Close\"].rolling(50).mean()\n",
    "df2['200DMA'] = df2[\"Adj Close\"].rolling(200).mean()\n",
    "df2"
   ]
  },
  {
   "cell_type": "code",
   "execution_count": 15,
   "metadata": {},
   "outputs": [],
   "source": [
    "df2['y'] = np.where(df2['50DMA'] > df2['200DMA'], 1, -1)\n",
    "df2_copy = df2.copy()"
   ]
  },
  {
   "cell_type": "code",
   "execution_count": 16,
   "metadata": {},
   "outputs": [
    {
     "data": {
      "text/html": [
       "<div>\n",
       "<style scoped>\n",
       "    .dataframe tbody tr th:only-of-type {\n",
       "        vertical-align: middle;\n",
       "    }\n",
       "\n",
       "    .dataframe tbody tr th {\n",
       "        vertical-align: top;\n",
       "    }\n",
       "\n",
       "    .dataframe thead th {\n",
       "        text-align: right;\n",
       "    }\n",
       "</style>\n",
       "<table border=\"1\" class=\"dataframe\">\n",
       "  <thead>\n",
       "    <tr style=\"text-align: right;\">\n",
       "      <th></th>\n",
       "      <th>Open</th>\n",
       "      <th>High</th>\n",
       "      <th>Low</th>\n",
       "      <th>Close</th>\n",
       "      <th>Adj Close</th>\n",
       "      <th>Volume</th>\n",
       "      <th>50DMA</th>\n",
       "      <th>200DMA</th>\n",
       "      <th>y</th>\n",
       "    </tr>\n",
       "    <tr>\n",
       "      <th>Date</th>\n",
       "      <th></th>\n",
       "      <th></th>\n",
       "      <th></th>\n",
       "      <th></th>\n",
       "      <th></th>\n",
       "      <th></th>\n",
       "      <th></th>\n",
       "      <th></th>\n",
       "      <th></th>\n",
       "    </tr>\n",
       "  </thead>\n",
       "  <tbody>\n",
       "    <tr>\n",
       "      <th>2015-10-16</th>\n",
       "      <td>44.608002</td>\n",
       "      <td>46.096001</td>\n",
       "      <td>44.574001</td>\n",
       "      <td>45.402000</td>\n",
       "      <td>45.402000</td>\n",
       "      <td>21672500</td>\n",
       "      <td>48.634080</td>\n",
       "      <td>46.360230</td>\n",
       "      <td>1</td>\n",
       "    </tr>\n",
       "    <tr>\n",
       "      <th>2015-10-19</th>\n",
       "      <td>45.299999</td>\n",
       "      <td>46.230000</td>\n",
       "      <td>44.987999</td>\n",
       "      <td>45.619999</td>\n",
       "      <td>45.619999</td>\n",
       "      <td>12539500</td>\n",
       "      <td>48.576440</td>\n",
       "      <td>46.369020</td>\n",
       "      <td>1</td>\n",
       "    </tr>\n",
       "    <tr>\n",
       "      <th>2015-10-20</th>\n",
       "      <td>45.543999</td>\n",
       "      <td>45.720001</td>\n",
       "      <td>40.400002</td>\n",
       "      <td>42.605999</td>\n",
       "      <td>42.605999</td>\n",
       "      <td>74500000</td>\n",
       "      <td>48.464000</td>\n",
       "      <td>46.371960</td>\n",
       "      <td>1</td>\n",
       "    </tr>\n",
       "    <tr>\n",
       "      <th>2015-10-21</th>\n",
       "      <td>42.397999</td>\n",
       "      <td>42.962002</td>\n",
       "      <td>41.759998</td>\n",
       "      <td>42.018002</td>\n",
       "      <td>42.018002</td>\n",
       "      <td>20757500</td>\n",
       "      <td>48.354880</td>\n",
       "      <td>46.370770</td>\n",
       "      <td>1</td>\n",
       "    </tr>\n",
       "    <tr>\n",
       "      <th>2015-10-22</th>\n",
       "      <td>42.312000</td>\n",
       "      <td>43.150002</td>\n",
       "      <td>41.880001</td>\n",
       "      <td>42.344002</td>\n",
       "      <td>42.344002</td>\n",
       "      <td>14126000</td>\n",
       "      <td>48.249080</td>\n",
       "      <td>46.371540</td>\n",
       "      <td>1</td>\n",
       "    </tr>\n",
       "    <tr>\n",
       "      <th>...</th>\n",
       "      <td>...</td>\n",
       "      <td>...</td>\n",
       "      <td>...</td>\n",
       "      <td>...</td>\n",
       "      <td>...</td>\n",
       "      <td>...</td>\n",
       "      <td>...</td>\n",
       "      <td>...</td>\n",
       "      <td>...</td>\n",
       "    </tr>\n",
       "    <tr>\n",
       "      <th>2021-12-23</th>\n",
       "      <td>1006.799988</td>\n",
       "      <td>1072.979980</td>\n",
       "      <td>997.559998</td>\n",
       "      <td>1067.000000</td>\n",
       "      <td>1067.000000</td>\n",
       "      <td>30904400</td>\n",
       "      <td>1037.823400</td>\n",
       "      <td>772.216549</td>\n",
       "      <td>1</td>\n",
       "    </tr>\n",
       "    <tr>\n",
       "      <th>2021-12-27</th>\n",
       "      <td>1073.670044</td>\n",
       "      <td>1117.000000</td>\n",
       "      <td>1070.719971</td>\n",
       "      <td>1093.939941</td>\n",
       "      <td>1093.939941</td>\n",
       "      <td>23715300</td>\n",
       "      <td>1043.335798</td>\n",
       "      <td>774.217599</td>\n",
       "      <td>1</td>\n",
       "    </tr>\n",
       "    <tr>\n",
       "      <th>2021-12-28</th>\n",
       "      <td>1109.489990</td>\n",
       "      <td>1119.000000</td>\n",
       "      <td>1078.420044</td>\n",
       "      <td>1088.469971</td>\n",
       "      <td>1088.469971</td>\n",
       "      <td>20108000</td>\n",
       "      <td>1048.244597</td>\n",
       "      <td>776.120248</td>\n",
       "      <td>1</td>\n",
       "    </tr>\n",
       "    <tr>\n",
       "      <th>2021-12-29</th>\n",
       "      <td>1098.640015</td>\n",
       "      <td>1104.000000</td>\n",
       "      <td>1064.140015</td>\n",
       "      <td>1086.189941</td>\n",
       "      <td>1086.189941</td>\n",
       "      <td>18718000</td>\n",
       "      <td>1052.566196</td>\n",
       "      <td>778.166798</td>\n",
       "      <td>1</td>\n",
       "    </tr>\n",
       "    <tr>\n",
       "      <th>2021-12-30</th>\n",
       "      <td>1061.329956</td>\n",
       "      <td>1095.550049</td>\n",
       "      <td>1053.150024</td>\n",
       "      <td>1070.339966</td>\n",
       "      <td>1070.339966</td>\n",
       "      <td>15680300</td>\n",
       "      <td>1056.687595</td>\n",
       "      <td>780.009448</td>\n",
       "      <td>1</td>\n",
       "    </tr>\n",
       "  </tbody>\n",
       "</table>\n",
       "<p>1563 rows × 9 columns</p>\n",
       "</div>"
      ],
      "text/plain": [
       "                   Open         High          Low        Close    Adj Close  \\\n",
       "Date                                                                          \n",
       "2015-10-16    44.608002    46.096001    44.574001    45.402000    45.402000   \n",
       "2015-10-19    45.299999    46.230000    44.987999    45.619999    45.619999   \n",
       "2015-10-20    45.543999    45.720001    40.400002    42.605999    42.605999   \n",
       "2015-10-21    42.397999    42.962002    41.759998    42.018002    42.018002   \n",
       "2015-10-22    42.312000    43.150002    41.880001    42.344002    42.344002   \n",
       "...                 ...          ...          ...          ...          ...   \n",
       "2021-12-23  1006.799988  1072.979980   997.559998  1067.000000  1067.000000   \n",
       "2021-12-27  1073.670044  1117.000000  1070.719971  1093.939941  1093.939941   \n",
       "2021-12-28  1109.489990  1119.000000  1078.420044  1088.469971  1088.469971   \n",
       "2021-12-29  1098.640015  1104.000000  1064.140015  1086.189941  1086.189941   \n",
       "2021-12-30  1061.329956  1095.550049  1053.150024  1070.339966  1070.339966   \n",
       "\n",
       "              Volume        50DMA      200DMA  y  \n",
       "Date                                              \n",
       "2015-10-16  21672500    48.634080   46.360230  1  \n",
       "2015-10-19  12539500    48.576440   46.369020  1  \n",
       "2015-10-20  74500000    48.464000   46.371960  1  \n",
       "2015-10-21  20757500    48.354880   46.370770  1  \n",
       "2015-10-22  14126000    48.249080   46.371540  1  \n",
       "...              ...          ...         ... ..  \n",
       "2021-12-23  30904400  1037.823400  772.216549  1  \n",
       "2021-12-27  23715300  1043.335798  774.217599  1  \n",
       "2021-12-28  20108000  1048.244597  776.120248  1  \n",
       "2021-12-29  18718000  1052.566196  778.166798  1  \n",
       "2021-12-30  15680300  1056.687595  780.009448  1  \n",
       "\n",
       "[1563 rows x 9 columns]"
      ]
     },
     "execution_count": 16,
     "metadata": {},
     "output_type": "execute_result"
    }
   ],
   "source": [
    "df2 = df2[199:] #discarding the first 200 rows for the moving averages comparison\n",
    "df2"
   ]
  },
  {
   "cell_type": "markdown",
   "metadata": {},
   "source": [
    "## Pre-process and clean the data"
   ]
  },
  {
   "cell_type": "code",
   "execution_count": 17,
   "metadata": {},
   "outputs": [
    {
     "name": "stdout",
     "output_type": "stream",
     "text": [
      "<class 'pandas.core.frame.DataFrame'>\n",
      "Index: 1762 entries, 2015-01-02 to 2021-12-30\n",
      "Data columns (total 8 columns):\n",
      " #   Column              Non-Null Count  Dtype  \n",
      "---  ------              --------------  -----  \n",
      " 0   Open                1762 non-null   float64\n",
      " 1   High                1762 non-null   float64\n",
      " 2   Low                 1762 non-null   float64\n",
      " 3   Close               1762 non-null   float64\n",
      " 4   Adj Close           1762 non-null   float64\n",
      " 5   Volume              1762 non-null   int64  \n",
      " 6   Adj Close next day  1761 non-null   float64\n",
      " 7   y                   1762 non-null   int32  \n",
      "dtypes: float64(6), int32(1), int64(1)\n",
      "memory usage: 117.0+ KB\n"
     ]
    }
   ],
   "source": [
    "df1.info()"
   ]
  },
  {
   "cell_type": "code",
   "execution_count": 18,
   "metadata": {},
   "outputs": [],
   "source": [
    "df1.dropna(inplace=True)"
   ]
  },
  {
   "cell_type": "code",
   "execution_count": 19,
   "metadata": {},
   "outputs": [
    {
     "name": "stdout",
     "output_type": "stream",
     "text": [
      "<class 'pandas.core.frame.DataFrame'>\n",
      "Index: 1761 entries, 2015-01-02 to 2021-12-29\n",
      "Data columns (total 8 columns):\n",
      " #   Column              Non-Null Count  Dtype  \n",
      "---  ------              --------------  -----  \n",
      " 0   Open                1761 non-null   float64\n",
      " 1   High                1761 non-null   float64\n",
      " 2   Low                 1761 non-null   float64\n",
      " 3   Close               1761 non-null   float64\n",
      " 4   Adj Close           1761 non-null   float64\n",
      " 5   Volume              1761 non-null   int64  \n",
      " 6   Adj Close next day  1761 non-null   float64\n",
      " 7   y                   1761 non-null   int32  \n",
      "dtypes: float64(6), int32(1), int64(1)\n",
      "memory usage: 116.9+ KB\n"
     ]
    }
   ],
   "source": [
    "df1.info()"
   ]
  },
  {
   "cell_type": "code",
   "execution_count": 20,
   "metadata": {},
   "outputs": [
    {
     "data": {
      "text/plain": [
       " 1    917\n",
       "-1    844\n",
       "Name: y, dtype: int64"
      ]
     },
     "execution_count": 20,
     "metadata": {},
     "output_type": "execute_result"
    }
   ],
   "source": [
    "df1['y'].value_counts()"
   ]
  },
  {
   "cell_type": "markdown",
   "metadata": {},
   "source": [
    "No class imbalance for df1"
   ]
  },
  {
   "cell_type": "code",
   "execution_count": 21,
   "metadata": {},
   "outputs": [
    {
     "data": {
      "text/html": [
       "<div>\n",
       "<style scoped>\n",
       "    .dataframe tbody tr th:only-of-type {\n",
       "        vertical-align: middle;\n",
       "    }\n",
       "\n",
       "    .dataframe tbody tr th {\n",
       "        vertical-align: top;\n",
       "    }\n",
       "\n",
       "    .dataframe thead th {\n",
       "        text-align: right;\n",
       "    }\n",
       "</style>\n",
       "<table border=\"1\" class=\"dataframe\">\n",
       "  <thead>\n",
       "    <tr style=\"text-align: right;\">\n",
       "      <th></th>\n",
       "      <th>Open</th>\n",
       "      <th>High</th>\n",
       "      <th>Low</th>\n",
       "      <th>Close</th>\n",
       "      <th>Adj Close</th>\n",
       "      <th>Volume</th>\n",
       "      <th>Adj Close next day</th>\n",
       "      <th>y</th>\n",
       "    </tr>\n",
       "    <tr>\n",
       "      <th>Date</th>\n",
       "      <th></th>\n",
       "      <th></th>\n",
       "      <th></th>\n",
       "      <th></th>\n",
       "      <th></th>\n",
       "      <th></th>\n",
       "      <th></th>\n",
       "      <th></th>\n",
       "    </tr>\n",
       "  </thead>\n",
       "  <tbody>\n",
       "    <tr>\n",
       "      <th>2015-01-02</th>\n",
       "      <td>44.574001</td>\n",
       "      <td>44.650002</td>\n",
       "      <td>42.652000</td>\n",
       "      <td>43.862000</td>\n",
       "      <td>43.862000</td>\n",
       "      <td>23822000</td>\n",
       "      <td>42.018002</td>\n",
       "      <td>-1</td>\n",
       "    </tr>\n",
       "    <tr>\n",
       "      <th>2015-01-05</th>\n",
       "      <td>42.910000</td>\n",
       "      <td>43.299999</td>\n",
       "      <td>41.431999</td>\n",
       "      <td>42.018002</td>\n",
       "      <td>42.018002</td>\n",
       "      <td>26842500</td>\n",
       "      <td>42.256001</td>\n",
       "      <td>1</td>\n",
       "    </tr>\n",
       "    <tr>\n",
       "      <th>2015-01-06</th>\n",
       "      <td>42.012001</td>\n",
       "      <td>42.840000</td>\n",
       "      <td>40.841999</td>\n",
       "      <td>42.256001</td>\n",
       "      <td>42.256001</td>\n",
       "      <td>31309500</td>\n",
       "      <td>42.189999</td>\n",
       "      <td>-1</td>\n",
       "    </tr>\n",
       "    <tr>\n",
       "      <th>2015-01-07</th>\n",
       "      <td>42.669998</td>\n",
       "      <td>42.956001</td>\n",
       "      <td>41.956001</td>\n",
       "      <td>42.189999</td>\n",
       "      <td>42.189999</td>\n",
       "      <td>14842000</td>\n",
       "      <td>42.124001</td>\n",
       "      <td>-1</td>\n",
       "    </tr>\n",
       "    <tr>\n",
       "      <th>2015-01-08</th>\n",
       "      <td>42.562000</td>\n",
       "      <td>42.759998</td>\n",
       "      <td>42.001999</td>\n",
       "      <td>42.124001</td>\n",
       "      <td>42.124001</td>\n",
       "      <td>17212500</td>\n",
       "      <td>41.332001</td>\n",
       "      <td>-1</td>\n",
       "    </tr>\n",
       "    <tr>\n",
       "      <th>...</th>\n",
       "      <td>...</td>\n",
       "      <td>...</td>\n",
       "      <td>...</td>\n",
       "      <td>...</td>\n",
       "      <td>...</td>\n",
       "      <td>...</td>\n",
       "      <td>...</td>\n",
       "      <td>...</td>\n",
       "    </tr>\n",
       "    <tr>\n",
       "      <th>2021-12-22</th>\n",
       "      <td>965.659973</td>\n",
       "      <td>1015.659973</td>\n",
       "      <td>957.049988</td>\n",
       "      <td>1008.869995</td>\n",
       "      <td>1008.869995</td>\n",
       "      <td>31211400</td>\n",
       "      <td>1067.000000</td>\n",
       "      <td>1</td>\n",
       "    </tr>\n",
       "    <tr>\n",
       "      <th>2021-12-23</th>\n",
       "      <td>1006.799988</td>\n",
       "      <td>1072.979980</td>\n",
       "      <td>997.559998</td>\n",
       "      <td>1067.000000</td>\n",
       "      <td>1067.000000</td>\n",
       "      <td>30904400</td>\n",
       "      <td>1093.939941</td>\n",
       "      <td>1</td>\n",
       "    </tr>\n",
       "    <tr>\n",
       "      <th>2021-12-27</th>\n",
       "      <td>1073.670044</td>\n",
       "      <td>1117.000000</td>\n",
       "      <td>1070.719971</td>\n",
       "      <td>1093.939941</td>\n",
       "      <td>1093.939941</td>\n",
       "      <td>23715300</td>\n",
       "      <td>1088.469971</td>\n",
       "      <td>-1</td>\n",
       "    </tr>\n",
       "    <tr>\n",
       "      <th>2021-12-28</th>\n",
       "      <td>1109.489990</td>\n",
       "      <td>1119.000000</td>\n",
       "      <td>1078.420044</td>\n",
       "      <td>1088.469971</td>\n",
       "      <td>1088.469971</td>\n",
       "      <td>20108000</td>\n",
       "      <td>1086.189941</td>\n",
       "      <td>-1</td>\n",
       "    </tr>\n",
       "    <tr>\n",
       "      <th>2021-12-29</th>\n",
       "      <td>1098.640015</td>\n",
       "      <td>1104.000000</td>\n",
       "      <td>1064.140015</td>\n",
       "      <td>1086.189941</td>\n",
       "      <td>1086.189941</td>\n",
       "      <td>18718000</td>\n",
       "      <td>1070.339966</td>\n",
       "      <td>-1</td>\n",
       "    </tr>\n",
       "  </tbody>\n",
       "</table>\n",
       "<p>1761 rows × 8 columns</p>\n",
       "</div>"
      ],
      "text/plain": [
       "                   Open         High          Low        Close    Adj Close  \\\n",
       "Date                                                                          \n",
       "2015-01-02    44.574001    44.650002    42.652000    43.862000    43.862000   \n",
       "2015-01-05    42.910000    43.299999    41.431999    42.018002    42.018002   \n",
       "2015-01-06    42.012001    42.840000    40.841999    42.256001    42.256001   \n",
       "2015-01-07    42.669998    42.956001    41.956001    42.189999    42.189999   \n",
       "2015-01-08    42.562000    42.759998    42.001999    42.124001    42.124001   \n",
       "...                 ...          ...          ...          ...          ...   \n",
       "2021-12-22   965.659973  1015.659973   957.049988  1008.869995  1008.869995   \n",
       "2021-12-23  1006.799988  1072.979980   997.559998  1067.000000  1067.000000   \n",
       "2021-12-27  1073.670044  1117.000000  1070.719971  1093.939941  1093.939941   \n",
       "2021-12-28  1109.489990  1119.000000  1078.420044  1088.469971  1088.469971   \n",
       "2021-12-29  1098.640015  1104.000000  1064.140015  1086.189941  1086.189941   \n",
       "\n",
       "              Volume  Adj Close next day  y  \n",
       "Date                                         \n",
       "2015-01-02  23822000           42.018002 -1  \n",
       "2015-01-05  26842500           42.256001  1  \n",
       "2015-01-06  31309500           42.189999 -1  \n",
       "2015-01-07  14842000           42.124001 -1  \n",
       "2015-01-08  17212500           41.332001 -1  \n",
       "...              ...                 ... ..  \n",
       "2021-12-22  31211400         1067.000000  1  \n",
       "2021-12-23  30904400         1093.939941  1  \n",
       "2021-12-27  23715300         1088.469971 -1  \n",
       "2021-12-28  20108000         1086.189941 -1  \n",
       "2021-12-29  18718000         1070.339966 -1  \n",
       "\n",
       "[1761 rows x 8 columns]"
      ]
     },
     "execution_count": 21,
     "metadata": {},
     "output_type": "execute_result"
    }
   ],
   "source": [
    "#df1 = df1[['Adj Close','Adj Close next day','y']]\n",
    "df1"
   ]
  },
  {
   "cell_type": "code",
   "execution_count": 22,
   "metadata": {
    "scrolled": true
   },
   "outputs": [
    {
     "name": "stdout",
     "output_type": "stream",
     "text": [
      "<class 'pandas.core.frame.DataFrame'>\n",
      "Index: 1563 entries, 2015-10-16 to 2021-12-30\n",
      "Data columns (total 9 columns):\n",
      " #   Column     Non-Null Count  Dtype  \n",
      "---  ------     --------------  -----  \n",
      " 0   Open       1563 non-null   float64\n",
      " 1   High       1563 non-null   float64\n",
      " 2   Low        1563 non-null   float64\n",
      " 3   Close      1563 non-null   float64\n",
      " 4   Adj Close  1563 non-null   float64\n",
      " 5   Volume     1563 non-null   int64  \n",
      " 6   50DMA      1563 non-null   float64\n",
      " 7   200DMA     1563 non-null   float64\n",
      " 8   y          1563 non-null   int32  \n",
      "dtypes: float64(7), int32(1), int64(1)\n",
      "memory usage: 116.0+ KB\n"
     ]
    }
   ],
   "source": [
    "df2.info()"
   ]
  },
  {
   "cell_type": "code",
   "execution_count": 23,
   "metadata": {
    "scrolled": true
   },
   "outputs": [
    {
     "data": {
      "text/html": [
       "<div>\n",
       "<style scoped>\n",
       "    .dataframe tbody tr th:only-of-type {\n",
       "        vertical-align: middle;\n",
       "    }\n",
       "\n",
       "    .dataframe tbody tr th {\n",
       "        vertical-align: top;\n",
       "    }\n",
       "\n",
       "    .dataframe thead th {\n",
       "        text-align: right;\n",
       "    }\n",
       "</style>\n",
       "<table border=\"1\" class=\"dataframe\">\n",
       "  <thead>\n",
       "    <tr style=\"text-align: right;\">\n",
       "      <th></th>\n",
       "      <th>Open</th>\n",
       "      <th>High</th>\n",
       "      <th>Low</th>\n",
       "      <th>Close</th>\n",
       "      <th>Adj Close</th>\n",
       "      <th>Volume</th>\n",
       "      <th>50DMA</th>\n",
       "      <th>200DMA</th>\n",
       "      <th>y</th>\n",
       "    </tr>\n",
       "    <tr>\n",
       "      <th>Date</th>\n",
       "      <th></th>\n",
       "      <th></th>\n",
       "      <th></th>\n",
       "      <th></th>\n",
       "      <th></th>\n",
       "      <th></th>\n",
       "      <th></th>\n",
       "      <th></th>\n",
       "      <th></th>\n",
       "    </tr>\n",
       "  </thead>\n",
       "  <tbody>\n",
       "    <tr>\n",
       "      <th>2015-10-16</th>\n",
       "      <td>44.608002</td>\n",
       "      <td>46.096001</td>\n",
       "      <td>44.574001</td>\n",
       "      <td>45.402000</td>\n",
       "      <td>45.402000</td>\n",
       "      <td>21672500</td>\n",
       "      <td>48.634080</td>\n",
       "      <td>46.360230</td>\n",
       "      <td>1</td>\n",
       "    </tr>\n",
       "    <tr>\n",
       "      <th>2015-10-19</th>\n",
       "      <td>45.299999</td>\n",
       "      <td>46.230000</td>\n",
       "      <td>44.987999</td>\n",
       "      <td>45.619999</td>\n",
       "      <td>45.619999</td>\n",
       "      <td>12539500</td>\n",
       "      <td>48.576440</td>\n",
       "      <td>46.369020</td>\n",
       "      <td>1</td>\n",
       "    </tr>\n",
       "    <tr>\n",
       "      <th>2015-10-20</th>\n",
       "      <td>45.543999</td>\n",
       "      <td>45.720001</td>\n",
       "      <td>40.400002</td>\n",
       "      <td>42.605999</td>\n",
       "      <td>42.605999</td>\n",
       "      <td>74500000</td>\n",
       "      <td>48.464000</td>\n",
       "      <td>46.371960</td>\n",
       "      <td>1</td>\n",
       "    </tr>\n",
       "    <tr>\n",
       "      <th>2015-10-21</th>\n",
       "      <td>42.397999</td>\n",
       "      <td>42.962002</td>\n",
       "      <td>41.759998</td>\n",
       "      <td>42.018002</td>\n",
       "      <td>42.018002</td>\n",
       "      <td>20757500</td>\n",
       "      <td>48.354880</td>\n",
       "      <td>46.370770</td>\n",
       "      <td>1</td>\n",
       "    </tr>\n",
       "    <tr>\n",
       "      <th>2015-10-22</th>\n",
       "      <td>42.312000</td>\n",
       "      <td>43.150002</td>\n",
       "      <td>41.880001</td>\n",
       "      <td>42.344002</td>\n",
       "      <td>42.344002</td>\n",
       "      <td>14126000</td>\n",
       "      <td>48.249080</td>\n",
       "      <td>46.371540</td>\n",
       "      <td>1</td>\n",
       "    </tr>\n",
       "    <tr>\n",
       "      <th>...</th>\n",
       "      <td>...</td>\n",
       "      <td>...</td>\n",
       "      <td>...</td>\n",
       "      <td>...</td>\n",
       "      <td>...</td>\n",
       "      <td>...</td>\n",
       "      <td>...</td>\n",
       "      <td>...</td>\n",
       "      <td>...</td>\n",
       "    </tr>\n",
       "    <tr>\n",
       "      <th>2021-12-23</th>\n",
       "      <td>1006.799988</td>\n",
       "      <td>1072.979980</td>\n",
       "      <td>997.559998</td>\n",
       "      <td>1067.000000</td>\n",
       "      <td>1067.000000</td>\n",
       "      <td>30904400</td>\n",
       "      <td>1037.823400</td>\n",
       "      <td>772.216549</td>\n",
       "      <td>1</td>\n",
       "    </tr>\n",
       "    <tr>\n",
       "      <th>2021-12-27</th>\n",
       "      <td>1073.670044</td>\n",
       "      <td>1117.000000</td>\n",
       "      <td>1070.719971</td>\n",
       "      <td>1093.939941</td>\n",
       "      <td>1093.939941</td>\n",
       "      <td>23715300</td>\n",
       "      <td>1043.335798</td>\n",
       "      <td>774.217599</td>\n",
       "      <td>1</td>\n",
       "    </tr>\n",
       "    <tr>\n",
       "      <th>2021-12-28</th>\n",
       "      <td>1109.489990</td>\n",
       "      <td>1119.000000</td>\n",
       "      <td>1078.420044</td>\n",
       "      <td>1088.469971</td>\n",
       "      <td>1088.469971</td>\n",
       "      <td>20108000</td>\n",
       "      <td>1048.244597</td>\n",
       "      <td>776.120248</td>\n",
       "      <td>1</td>\n",
       "    </tr>\n",
       "    <tr>\n",
       "      <th>2021-12-29</th>\n",
       "      <td>1098.640015</td>\n",
       "      <td>1104.000000</td>\n",
       "      <td>1064.140015</td>\n",
       "      <td>1086.189941</td>\n",
       "      <td>1086.189941</td>\n",
       "      <td>18718000</td>\n",
       "      <td>1052.566196</td>\n",
       "      <td>778.166798</td>\n",
       "      <td>1</td>\n",
       "    </tr>\n",
       "    <tr>\n",
       "      <th>2021-12-30</th>\n",
       "      <td>1061.329956</td>\n",
       "      <td>1095.550049</td>\n",
       "      <td>1053.150024</td>\n",
       "      <td>1070.339966</td>\n",
       "      <td>1070.339966</td>\n",
       "      <td>15680300</td>\n",
       "      <td>1056.687595</td>\n",
       "      <td>780.009448</td>\n",
       "      <td>1</td>\n",
       "    </tr>\n",
       "  </tbody>\n",
       "</table>\n",
       "<p>1563 rows × 9 columns</p>\n",
       "</div>"
      ],
      "text/plain": [
       "                   Open         High          Low        Close    Adj Close  \\\n",
       "Date                                                                          \n",
       "2015-10-16    44.608002    46.096001    44.574001    45.402000    45.402000   \n",
       "2015-10-19    45.299999    46.230000    44.987999    45.619999    45.619999   \n",
       "2015-10-20    45.543999    45.720001    40.400002    42.605999    42.605999   \n",
       "2015-10-21    42.397999    42.962002    41.759998    42.018002    42.018002   \n",
       "2015-10-22    42.312000    43.150002    41.880001    42.344002    42.344002   \n",
       "...                 ...          ...          ...          ...          ...   \n",
       "2021-12-23  1006.799988  1072.979980   997.559998  1067.000000  1067.000000   \n",
       "2021-12-27  1073.670044  1117.000000  1070.719971  1093.939941  1093.939941   \n",
       "2021-12-28  1109.489990  1119.000000  1078.420044  1088.469971  1088.469971   \n",
       "2021-12-29  1098.640015  1104.000000  1064.140015  1086.189941  1086.189941   \n",
       "2021-12-30  1061.329956  1095.550049  1053.150024  1070.339966  1070.339966   \n",
       "\n",
       "              Volume        50DMA      200DMA  y  \n",
       "Date                                              \n",
       "2015-10-16  21672500    48.634080   46.360230  1  \n",
       "2015-10-19  12539500    48.576440   46.369020  1  \n",
       "2015-10-20  74500000    48.464000   46.371960  1  \n",
       "2015-10-21  20757500    48.354880   46.370770  1  \n",
       "2015-10-22  14126000    48.249080   46.371540  1  \n",
       "...              ...          ...         ... ..  \n",
       "2021-12-23  30904400  1037.823400  772.216549  1  \n",
       "2021-12-27  23715300  1043.335798  774.217599  1  \n",
       "2021-12-28  20108000  1048.244597  776.120248  1  \n",
       "2021-12-29  18718000  1052.566196  778.166798  1  \n",
       "2021-12-30  15680300  1056.687595  780.009448  1  \n",
       "\n",
       "[1563 rows x 9 columns]"
      ]
     },
     "execution_count": 23,
     "metadata": {},
     "output_type": "execute_result"
    }
   ],
   "source": [
    "#df2 = df2[['50DMA','200DMA','y']]\n",
    "df2\n",
    "#print(df2.columns)"
   ]
  },
  {
   "cell_type": "code",
   "execution_count": 24,
   "metadata": {},
   "outputs": [
    {
     "data": {
      "text/plain": [
       " 1    931\n",
       "-1    632\n",
       "Name: y, dtype: int64"
      ]
     },
     "execution_count": 24,
     "metadata": {},
     "output_type": "execute_result"
    }
   ],
   "source": [
    "df2['y'].value_counts()"
   ]
  },
  {
   "cell_type": "markdown",
   "metadata": {},
   "source": [
    "A little bit of a class imbalance here. Will correct this using SMOTE"
   ]
  },
  {
   "cell_type": "markdown",
   "metadata": {},
   "source": [
    "## Define the feature variable X, and the label/target y"
   ]
  },
  {
   "cell_type": "code",
   "execution_count": 25,
   "metadata": {},
   "outputs": [],
   "source": [
    "X1 = df1.iloc[:, :-1].values\n",
    "y1 = df1.iloc[:, -1].values"
   ]
  },
  {
   "cell_type": "code",
   "execution_count": 26,
   "metadata": {},
   "outputs": [],
   "source": [
    "X2 = df2.iloc[:, :-1].values\n",
    "y2 = df2.iloc[:, -1].values"
   ]
  },
  {
   "cell_type": "code",
   "execution_count": 27,
   "metadata": {},
   "outputs": [
    {
     "name": "stdout",
     "output_type": "stream",
     "text": [
      "<class 'numpy.ndarray'>\n",
      "<class 'numpy.ndarray'>\n"
     ]
    }
   ],
   "source": [
    "print(type(X1))\n",
    "print(type(y1))"
   ]
  },
  {
   "cell_type": "code",
   "execution_count": 28,
   "metadata": {},
   "outputs": [],
   "source": [
    "from imblearn.over_sampling import SMOTE\n",
    "sm = SMOTE(random_state=42)\n",
    "X1, y1 = sm.fit_resample(X1, y1)\n",
    "X2, y2 = sm.fit_resample(X2, y2)"
   ]
  },
  {
   "cell_type": "markdown",
   "metadata": {},
   "source": [
    "Using SMOTE to generate synthetic sample"
   ]
  },
  {
   "cell_type": "code",
   "execution_count": 29,
   "metadata": {},
   "outputs": [
    {
     "name": "stdout",
     "output_type": "stream",
     "text": [
      " 1    917\n",
      "-1    917\n",
      "dtype: int64\n",
      " 1    931\n",
      "-1    931\n",
      "dtype: int64\n"
     ]
    }
   ],
   "source": [
    "print(pd.DataFrame(y1).value_counts())\n",
    "print(pd.DataFrame(y2).value_counts())"
   ]
  },
  {
   "cell_type": "markdown",
   "metadata": {},
   "source": [
    "Now dataset perfectly balanced"
   ]
  },
  {
   "cell_type": "markdown",
   "metadata": {},
   "source": [
    "## Split the data into training and test datasets (80/20 ratio)"
   ]
  },
  {
   "cell_type": "code",
   "execution_count": 30,
   "metadata": {},
   "outputs": [],
   "source": [
    "from sklearn.model_selection import train_test_split\n",
    "\n",
    "X1_train, X1_test, y1_train, y1_test = train_test_split(X1, y1, \n",
    "                                                    test_size=0.20, \n",
    "                                                    random_state=0)"
   ]
  },
  {
   "cell_type": "code",
   "execution_count": 31,
   "metadata": {},
   "outputs": [],
   "source": [
    "X2_train, X2_test, y2_train, y2_test = train_test_split(X2, y2, \n",
    "                                                    test_size=0.20, \n",
    "                                                    random_state=0)"
   ]
  },
  {
   "cell_type": "markdown",
   "metadata": {},
   "source": [
    "#### Feature scaling"
   ]
  },
  {
   "cell_type": "code",
   "execution_count": 32,
   "metadata": {},
   "outputs": [],
   "source": [
    "from sklearn.preprocessing import RobustScaler\n",
    "rc = RobustScaler()\n",
    "X1_train = rc.fit_transform(X1_train)\n",
    "X1_test = rc.transform(X1_test)\n",
    "X2_train = rc.fit_transform(X2_train)\n",
    "X2_test = rc.transform(X2_test)"
   ]
  },
  {
   "cell_type": "code",
   "execution_count": 33,
   "metadata": {},
   "outputs": [
    {
     "data": {
      "text/plain": [
       "array([[-1.52064856e-01, -1.51071058e-01, -1.63912411e-01, ...,\n",
       "        -1.48654059e-01,  1.93884328e+00, -1.51457901e-01],\n",
       "       [-8.26332648e-03, -4.82520075e-03, -3.16448899e-03, ...,\n",
       "        -3.90843840e-04,  6.19248389e-01,  1.73066978e-02],\n",
       "       [-1.26114113e-01, -1.23401390e-01, -1.23022192e-01, ...,\n",
       "        -1.19067859e-01, -5.96013843e-01, -1.17580926e-01],\n",
       "       ...,\n",
       "       [ 5.75648793e+00,  5.57958303e+00,  5.98455008e+00, ...,\n",
       "         5.71752349e+00, -5.82620560e-01,  5.96368085e+00],\n",
       "       [-1.05770586e-01, -1.07361283e-01, -1.03890478e-01, ...,\n",
       "        -1.06150742e-01, -5.57395694e-01, -8.99638589e-02],\n",
       "       [ 1.25622181e-01,  1.19914455e-01,  1.39692606e-01, ...,\n",
       "         1.26650028e-01, -2.18128887e-01,  1.10274496e-01]])"
      ]
     },
     "execution_count": 33,
     "metadata": {},
     "output_type": "execute_result"
    }
   ],
   "source": [
    "X1_train"
   ]
  },
  {
   "cell_type": "markdown",
   "metadata": {},
   "source": [
    "## Choose a classifier and fit it on the training dataset (take its default parameter)"
   ]
  },
  {
   "cell_type": "markdown",
   "metadata": {},
   "source": [
    "### K-nearest neighbors (KNN)"
   ]
  },
  {
   "cell_type": "code",
   "execution_count": 34,
   "metadata": {},
   "outputs": [],
   "source": [
    "from sklearn.neighbors import KNeighborsClassifier\n",
    "KNN1,KNN2 = KNeighborsClassifier(),KNeighborsClassifier()\n",
    "KNN1.fit(X1_train, y1_train)\n",
    "KNN2.fit(X2_train, y2_train)\n",
    "y_predKNN1 = KNN1.predict(X1_test)\n",
    "y_predKNN2 = KNN2.predict(X2_test)"
   ]
  },
  {
   "cell_type": "markdown",
   "metadata": {},
   "source": [
    "## Random forest (RF)"
   ]
  },
  {
   "cell_type": "code",
   "execution_count": 35,
   "metadata": {},
   "outputs": [],
   "source": [
    "from sklearn.ensemble import RandomForestClassifier\n",
    "RF1, RF2 = RandomForestClassifier(),RandomForestClassifier()\n",
    "RF1.fit(X1_train, y1_train)\n",
    "RF2.fit(X2_train, y2_train)\n",
    "y_predRF1 = RF1.predict(X1_test)\n",
    "y_predRF2 = RF2.predict(X2_test)"
   ]
  },
  {
   "cell_type": "markdown",
   "metadata": {},
   "source": [
    "### Gradient Boosting (GB)"
   ]
  },
  {
   "cell_type": "code",
   "execution_count": 36,
   "metadata": {},
   "outputs": [],
   "source": [
    "from sklearn.ensemble import GradientBoostingClassifier\n",
    "GB1, GB2 = GradientBoostingClassifier(),GradientBoostingClassifier()\n",
    "GB1.fit(X1_train, y1_train)\n",
    "GB2.fit(X2_train, y2_train)\n",
    "y_predGB1 = GB1.predict(X1_test)\n",
    "y_predGB2 = GB2.predict(X2_test)"
   ]
  },
  {
   "cell_type": "markdown",
   "metadata": {},
   "source": [
    "### Support vector machines (SVM)"
   ]
  },
  {
   "cell_type": "code",
   "execution_count": 37,
   "metadata": {},
   "outputs": [],
   "source": [
    "from sklearn.svm import SVC\n",
    "SVM1, SVM2 = SVC(),SVC()\n",
    "SVM1.fit(X1_train, y1_train)\n",
    "SVM2.fit(X2_train, y2_train)\n",
    "y_predSVM1 = SVM1.predict(X1_test)\n",
    "y_predSVM2 = SVM2.predict(X2_test)"
   ]
  },
  {
   "cell_type": "markdown",
   "metadata": {},
   "source": [
    "### XGBoost classifier"
   ]
  },
  {
   "cell_type": "code",
   "execution_count": 38,
   "metadata": {},
   "outputs": [
    {
     "name": "stderr",
     "output_type": "stream",
     "text": [
      "C:\\Users\\dimit\\anaconda3\\lib\\site-packages\\xgboost\\sklearn.py:1146: UserWarning: The use of label encoder in XGBClassifier is deprecated and will be removed in a future release. To remove this warning, do the following: 1) Pass option use_label_encoder=False when constructing XGBClassifier object; and 2) Encode your labels (y) as integers starting with 0, i.e. 0, 1, 2, ..., [num_class - 1].\n",
      "  warnings.warn(label_encoder_deprecation_msg, UserWarning)\n"
     ]
    },
    {
     "name": "stdout",
     "output_type": "stream",
     "text": [
      "[08:54:45] WARNING: C:/Users/Administrator/workspace/xgboost-win64_release_1.4.0/src/learner.cc:1095: Starting in XGBoost 1.3.0, the default evaluation metric used with the objective 'binary:logistic' was changed from 'error' to 'logloss'. Explicitly set eval_metric if you'd like to restore the old behavior.\n",
      "[08:54:45] WARNING: C:/Users/Administrator/workspace/xgboost-win64_release_1.4.0/src/learner.cc:1095: Starting in XGBoost 1.3.0, the default evaluation metric used with the objective 'binary:logistic' was changed from 'error' to 'logloss'. Explicitly set eval_metric if you'd like to restore the old behavior.\n"
     ]
    }
   ],
   "source": [
    "from xgboost import XGBClassifier\n",
    "XGB1, XGB2 = XGBClassifier(),XGBClassifier()\n",
    "XGB1.fit(X1_train, y1_train)\n",
    "XGB2.fit(X2_train, y2_train)\n",
    "y_predXGB1 = XGB1.predict(X1_test)\n",
    "y_predXGB2 = XGB2.predict(X2_test)"
   ]
  },
  {
   "cell_type": "markdown",
   "metadata": {},
   "source": [
    "## Evaluate the classifier on the test dataset"
   ]
  },
  {
   "cell_type": "code",
   "execution_count": 39,
   "metadata": {},
   "outputs": [],
   "source": [
    "import seaborn as sn\n",
    "from sklearn.metrics import confusion_matrix\n",
    "import matplotlib.pyplot as plt\n",
    "from sklearn.metrics import accuracy_score\n",
    "from sklearn.metrics import classification_report\n",
    "strategies_classifiers_score = pd.DataFrame(columns = ['classfier | strategy number','accuracy %'])"
   ]
  },
  {
   "cell_type": "markdown",
   "metadata": {},
   "source": [
    "### K-nearest neighbors (KNN)"
   ]
  },
  {
   "cell_type": "code",
   "execution_count": 40,
   "metadata": {},
   "outputs": [
    {
     "data": {
      "image/png": "[encoded data removed]",
      "text/plain": [
       "<Figure size 432x288 with 2 Axes>"
      ]
     },
     "metadata": {},
     "output_type": "display_data"
    },
    {
     "name": "stdout",
     "output_type": "stream",
     "text": [
      "              precision    recall  f1-score   support\n",
      "\n",
      "          -1       0.58      0.56      0.57       192\n",
      "           1       0.54      0.57      0.55       175\n",
      "\n",
      "    accuracy                           0.56       367\n",
      "   macro avg       0.56      0.56      0.56       367\n",
      "weighted avg       0.56      0.56      0.56       367\n",
      "\n"
     ]
    }
   ],
   "source": [
    "cm = confusion_matrix(y1_test,y_predKNN1) / confusion_matrix(y1_test,y_predKNN1).astype(np.float).sum()\n",
    "df_cm = pd.DataFrame(cm, range(len(cm[0])), range(len(cm[0])))\n",
    "sn.set(font_scale=1.4)\n",
    "sn.heatmap(df_cm, annot=True, annot_kws={\"size\": 16})\n",
    "plt.show()\n",
    "strategies_classifiers_score = strategies_classifiers_score.append({'classfier | strategy number':'KNN | 1',\n",
    "                                                                   'accuracy %':accuracy_score(y1_test, y_predKNN1)*100},\n",
    "                                                                  ignore_index=True)\n",
    "print(classification_report(y1_test, y_predKNN1))\n"
   ]
  },
  {
   "cell_type": "code",
   "execution_count": 41,
   "metadata": {},
   "outputs": [
    {
     "data": {
      "image/png": "[encoded data removed]",
      "text/plain": [
       "<Figure size 432x288 with 2 Axes>"
      ]
     },
     "metadata": {},
     "output_type": "display_data"
    },
    {
     "name": "stdout",
     "output_type": "stream",
     "text": [
      "              precision    recall  f1-score   support\n",
      "\n",
      "          -1       0.92      0.95      0.93       185\n",
      "           1       0.95      0.91      0.93       188\n",
      "\n",
      "    accuracy                           0.93       373\n",
      "   macro avg       0.93      0.93      0.93       373\n",
      "weighted avg       0.93      0.93      0.93       373\n",
      "\n"
     ]
    }
   ],
   "source": [
    "cm = confusion_matrix(y2_test,y_predKNN2) / confusion_matrix(y2_test,y_predKNN2).astype(np.float).sum()\n",
    "df_cm = pd.DataFrame(cm, range(len(cm[0])), range(len(cm[0])))\n",
    "sn.set(font_scale=1.4)\n",
    "sn.heatmap(df_cm, annot=True, annot_kws={\"size\": 16})\n",
    "plt.show()\n",
    "strategies_classifiers_score = strategies_classifiers_score.append({'classfier | strategy number':'KNN | 2',\n",
    "                                                                   'accuracy %':accuracy_score(y2_test, y_predKNN2)*100},\n",
    "                                                                  ignore_index=True)\n",
    "print(classification_report(y2_test,y_predKNN2))"
   ]
  },
  {
   "cell_type": "markdown",
   "metadata": {},
   "source": [
    "### Random forest (RF)"
   ]
  },
  {
   "cell_type": "code",
   "execution_count": 42,
   "metadata": {},
   "outputs": [
    {
     "data": {
      "image/png": "[encoded data removed]",
      "text/plain": [
       "<Figure size 432x288 with 2 Axes>"
      ]
     },
     "metadata": {},
     "output_type": "display_data"
    },
    {
     "name": "stdout",
     "output_type": "stream",
     "text": [
      "              precision    recall  f1-score   support\n",
      "\n",
      "          -1       0.81      0.76      0.78       192\n",
      "           1       0.75      0.81      0.78       175\n",
      "\n",
      "    accuracy                           0.78       367\n",
      "   macro avg       0.78      0.78      0.78       367\n",
      "weighted avg       0.78      0.78      0.78       367\n",
      "\n"
     ]
    }
   ],
   "source": [
    "cm = confusion_matrix(y1_test,y_predRF1) / confusion_matrix(y1_test,y_predRF1).astype(np.float).sum()\n",
    "df_cm = pd.DataFrame(cm, range(len(cm[0])), range(len(cm[0])))\n",
    "sn.set(font_scale=1.4)\n",
    "sn.heatmap(df_cm, annot=True, annot_kws={\"size\": 16})\n",
    "plt.show()\n",
    "strategies_classifiers_score = strategies_classifiers_score.append({'classfier | strategy number':'RF | 1',\n",
    "                                                                   'accuracy %':accuracy_score(y1_test, y_predRF1)*100},\n",
    "                                                                  ignore_index=True)\n",
    "print(classification_report(y1_test,y_predRF1))"
   ]
  },
  {
   "cell_type": "code",
   "execution_count": 43,
   "metadata": {},
   "outputs": [
    {
     "data": {
      "image/png": "[encoded data removed]",
      "text/plain": [
       "<Figure size 432x288 with 2 Axes>"
      ]
     },
     "metadata": {},
     "output_type": "display_data"
    },
    {
     "name": "stdout",
     "output_type": "stream",
     "text": [
      "              precision    recall  f1-score   support\n",
      "\n",
      "          -1       0.97      0.97      0.97       185\n",
      "           1       0.97      0.97      0.97       188\n",
      "\n",
      "    accuracy                           0.97       373\n",
      "   macro avg       0.97      0.97      0.97       373\n",
      "weighted avg       0.97      0.97      0.97       373\n",
      "\n"
     ]
    }
   ],
   "source": [
    "cm = confusion_matrix(y2_test,y_predRF2) / confusion_matrix(y2_test,y_predRF2).astype(np.float).sum()\n",
    "df_cm = pd.DataFrame(cm, range(len(cm[0])), range(len(cm[0])))\n",
    "sn.set(font_scale=1.4)\n",
    "sn.heatmap(df_cm, annot=True, annot_kws={\"size\": 16})\n",
    "plt.show()\n",
    "strategies_classifiers_score = strategies_classifiers_score.append({'classfier | strategy number':'RF | 2',\n",
    "                                                                   'accuracy %':accuracy_score(y2_test, y_predRF2)*100},\n",
    "                                                                  ignore_index=True)\n",
    "print(classification_report(y2_test,y_predRF2))"
   ]
  },
  {
   "cell_type": "markdown",
   "metadata": {},
   "source": [
    "### Gradient boosting (GB)"
   ]
  },
  {
   "cell_type": "code",
   "execution_count": 44,
   "metadata": {},
   "outputs": [
    {
     "data": {
      "image/png": "[encoded data removed]",
      "text/plain": [
       "<Figure size 432x288 with 2 Axes>"
      ]
     },
     "metadata": {},
     "output_type": "display_data"
    },
    {
     "name": "stdout",
     "output_type": "stream",
     "text": [
      "              precision    recall  f1-score   support\n",
      "\n",
      "          -1       0.83      0.68      0.75       192\n",
      "           1       0.71      0.85      0.77       175\n",
      "\n",
      "    accuracy                           0.76       367\n",
      "   macro avg       0.77      0.76      0.76       367\n",
      "weighted avg       0.77      0.76      0.76       367\n",
      "\n"
     ]
    }
   ],
   "source": [
    "cm = confusion_matrix(y1_test,y_predGB1) / confusion_matrix(y1_test,y_predGB1).astype(np.float).sum()\n",
    "df_cm = pd.DataFrame(cm, range(len(cm[0])), range(len(cm[0])))\n",
    "sn.set(font_scale=1.4)\n",
    "sn.heatmap(df_cm, annot=True, annot_kws={\"size\": 16})\n",
    "plt.show()\n",
    "strategies_classifiers_score = strategies_classifiers_score.append({'classfier | strategy number':'GB | 1',\n",
    "                                                                   'accuracy %':accuracy_score(y1_test, y_predGB1)*100},\n",
    "                                                                  ignore_index=True)\n",
    "print(classification_report(y1_test,y_predGB1))"
   ]
  },
  {
   "cell_type": "code",
   "execution_count": 45,
   "metadata": {},
   "outputs": [
    {
     "data": {
      "image/png": "[encoded data removed]",
      "text/plain": [
       "<Figure size 432x288 with 2 Axes>"
      ]
     },
     "metadata": {},
     "output_type": "display_data"
    },
    {
     "name": "stdout",
     "output_type": "stream",
     "text": [
      "              precision    recall  f1-score   support\n",
      "\n",
      "          -1       0.99      0.98      0.99       185\n",
      "           1       0.98      0.99      0.99       188\n",
      "\n",
      "    accuracy                           0.99       373\n",
      "   macro avg       0.99      0.99      0.99       373\n",
      "weighted avg       0.99      0.99      0.99       373\n",
      "\n"
     ]
    }
   ],
   "source": [
    "cm = confusion_matrix(y2_test,y_predGB2) / confusion_matrix(y2_test,y_predGB2).astype(np.float).sum()\n",
    "df_cm = pd.DataFrame(cm, range(len(cm[0])), range(len(cm[0])))\n",
    "sn.set(font_scale=1.4)\n",
    "sn.heatmap(df_cm, annot=True, annot_kws={\"size\": 16})\n",
    "plt.show()\n",
    "strategies_classifiers_score = strategies_classifiers_score.append({'classfier | strategy number':'GB | 2',\n",
    "                                                                   'accuracy %':accuracy_score(y2_test, y_predGB2)*100},\n",
    "                                                                  ignore_index=True)\n",
    "print(classification_report(y2_test,y_predGB2))"
   ]
  },
  {
   "cell_type": "markdown",
   "metadata": {},
   "source": [
    "### Support vector machines (SVM)"
   ]
  },
  {
   "cell_type": "code",
   "execution_count": 46,
   "metadata": {},
   "outputs": [
    {
     "data": {
      "image/png": "[encoded data removed]",
      "text/plain": [
       "<Figure size 432x288 with 2 Axes>"
      ]
     },
     "metadata": {},
     "output_type": "display_data"
    },
    {
     "name": "stdout",
     "output_type": "stream",
     "text": [
      "              precision    recall  f1-score   support\n",
      "\n",
      "          -1       0.52      0.72      0.60       192\n",
      "           1       0.46      0.26      0.33       175\n",
      "\n",
      "    accuracy                           0.50       367\n",
      "   macro avg       0.49      0.49      0.47       367\n",
      "weighted avg       0.49      0.50      0.47       367\n",
      "\n"
     ]
    }
   ],
   "source": [
    "cm = confusion_matrix(y1_test,y_predSVM1) / confusion_matrix(y1_test,y_predSVM1).astype(np.float).sum()\n",
    "df_cm = pd.DataFrame(cm, range(len(cm[0])), range(len(cm[0])))\n",
    "sn.set(font_scale=1.4)\n",
    "sn.heatmap(df_cm, annot=True, annot_kws={\"size\": 16})\n",
    "plt.show()\n",
    "strategies_classifiers_score = strategies_classifiers_score.append({'classfier | strategy number':'SVM | 1',\n",
    "                                                                   'accuracy %':accuracy_score(y1_test, y_predSVM1)*100},\n",
    "                                                                  ignore_index=True)\n",
    "print(classification_report(y1_test,y_predSVM1))"
   ]
  },
  {
   "cell_type": "code",
   "execution_count": 47,
   "metadata": {},
   "outputs": [
    {
     "data": {
      "image/png": "[encoded data removed]",
      "text/plain": [
       "<Figure size 432x288 with 2 Axes>"
      ]
     },
     "metadata": {},
     "output_type": "display_data"
    },
    {
     "name": "stdout",
     "output_type": "stream",
     "text": [
      "              precision    recall  f1-score   support\n",
      "\n",
      "          -1       0.65      0.98      0.78       185\n",
      "           1       0.96      0.48      0.64       188\n",
      "\n",
      "    accuracy                           0.73       373\n",
      "   macro avg       0.80      0.73      0.71       373\n",
      "weighted avg       0.80      0.73      0.71       373\n",
      "\n"
     ]
    }
   ],
   "source": [
    "cm = confusion_matrix(y2_test,y_predSVM2) / confusion_matrix(y2_test,y_predSVM2).astype(np.float).sum()\n",
    "df_cm = pd.DataFrame(cm, range(len(cm[0])), range(len(cm[0])))\n",
    "sn.set(font_scale=1.4)\n",
    "sn.heatmap(df_cm, annot=True, annot_kws={\"size\": 16})\n",
    "plt.show()\n",
    "strategies_classifiers_score = strategies_classifiers_score.append({'classfier | strategy number':'SVM | 2',\n",
    "                                                                   'accuracy %':accuracy_score(y2_test, y_predSVM2)*100},\n",
    "                                                                  ignore_index=True)\n",
    "print(classification_report(y2_test,y_predSVM2))"
   ]
  },
  {
   "cell_type": "markdown",
   "metadata": {},
   "source": [
    "### XGBoost classifier"
   ]
  },
  {
   "cell_type": "code",
   "execution_count": 48,
   "metadata": {},
   "outputs": [
    {
     "data": {
      "image/png": "[encoded data removed]",
      "text/plain": [
       "<Figure size 432x288 with 2 Axes>"
      ]
     },
     "metadata": {},
     "output_type": "display_data"
    },
    {
     "name": "stdout",
     "output_type": "stream",
     "text": [
      "              precision    recall  f1-score   support\n",
      "\n",
      "          -1       0.85      0.80      0.82       192\n",
      "           1       0.79      0.85      0.82       175\n",
      "\n",
      "    accuracy                           0.82       367\n",
      "   macro avg       0.82      0.82      0.82       367\n",
      "weighted avg       0.82      0.82      0.82       367\n",
      "\n"
     ]
    }
   ],
   "source": [
    "cm = confusion_matrix(y1_test,y_predXGB1) / confusion_matrix(y1_test,y_predXGB1).astype(np.float).sum()\n",
    "df_cm = pd.DataFrame(cm, range(len(cm[0])), range(len(cm[0])))\n",
    "sn.set(font_scale=1.4)\n",
    "sn.heatmap(df_cm, annot=True, annot_kws={\"size\": 16})\n",
    "plt.show()\n",
    "strategies_classifiers_score = strategies_classifiers_score.append({'classfier | strategy number':'XGB | 1',\n",
    "                                                                   'accuracy %':accuracy_score(y1_test, y_predXGB1)*100},\n",
    "                                                                  ignore_index=True)\n",
    "print(classification_report(y1_test,y_predXGB1))"
   ]
  },
  {
   "cell_type": "code",
   "execution_count": 49,
   "metadata": {},
   "outputs": [
    {
     "data": {
      "image/png": "[encoded data removed]",
      "text/plain": [
       "<Figure size 432x288 with 2 Axes>"
      ]
     },
     "metadata": {},
     "output_type": "display_data"
    },
    {
     "name": "stdout",
     "output_type": "stream",
     "text": [
      "              precision    recall  f1-score   support\n",
      "\n",
      "          -1       0.99      0.99      0.99       185\n",
      "           1       0.99      0.99      0.99       188\n",
      "\n",
      "    accuracy                           0.99       373\n",
      "   macro avg       0.99      0.99      0.99       373\n",
      "weighted avg       0.99      0.99      0.99       373\n",
      "\n"
     ]
    }
   ],
   "source": [
    "cm = confusion_matrix(y2_test,y_predXGB2) / confusion_matrix(y2_test,y_predXGB2).astype(np.float).sum()\n",
    "df_cm = pd.DataFrame(cm, range(len(cm[0])), range(len(cm[0])))\n",
    "sn.set(font_scale=1.4)\n",
    "sn.heatmap(df_cm, annot=True, annot_kws={\"size\": 16})\n",
    "plt.show()\n",
    "strategies_classifiers_score = strategies_classifiers_score.append({'classfier | strategy number':'XGB | 2',\n",
    "                                                                   'accuracy %':accuracy_score(y2_test, y_predXGB2)*100},\n",
    "                                                                  ignore_index=True)\n",
    "print(classification_report(y2_test,y_predXGB2))"
   ]
  },
  {
   "cell_type": "code",
   "execution_count": 50,
   "metadata": {},
   "outputs": [
    {
     "data": {
      "text/html": [
       "<div>\n",
       "<style scoped>\n",
       "    .dataframe tbody tr th:only-of-type {\n",
       "        vertical-align: middle;\n",
       "    }\n",
       "\n",
       "    .dataframe tbody tr th {\n",
       "        vertical-align: top;\n",
       "    }\n",
       "\n",
       "    .dataframe thead th {\n",
       "        text-align: right;\n",
       "    }\n",
       "</style>\n",
       "<table border=\"1\" class=\"dataframe\">\n",
       "  <thead>\n",
       "    <tr style=\"text-align: right;\">\n",
       "      <th></th>\n",
       "      <th>classfier | strategy number</th>\n",
       "      <th>accuracy %</th>\n",
       "    </tr>\n",
       "  </thead>\n",
       "  <tbody>\n",
       "    <tr>\n",
       "      <th>6</th>\n",
       "      <td>SVM | 1</td>\n",
       "      <td>50.136240</td>\n",
       "    </tr>\n",
       "    <tr>\n",
       "      <th>0</th>\n",
       "      <td>KNN | 1</td>\n",
       "      <td>56.130790</td>\n",
       "    </tr>\n",
       "    <tr>\n",
       "      <th>7</th>\n",
       "      <td>SVM | 2</td>\n",
       "      <td>72.654155</td>\n",
       "    </tr>\n",
       "    <tr>\n",
       "      <th>4</th>\n",
       "      <td>GB | 1</td>\n",
       "      <td>76.021798</td>\n",
       "    </tr>\n",
       "    <tr>\n",
       "      <th>2</th>\n",
       "      <td>RF | 1</td>\n",
       "      <td>78.201635</td>\n",
       "    </tr>\n",
       "    <tr>\n",
       "      <th>8</th>\n",
       "      <td>XGB | 1</td>\n",
       "      <td>82.016349</td>\n",
       "    </tr>\n",
       "    <tr>\n",
       "      <th>1</th>\n",
       "      <td>KNN | 2</td>\n",
       "      <td>93.029491</td>\n",
       "    </tr>\n",
       "    <tr>\n",
       "      <th>3</th>\n",
       "      <td>RF | 2</td>\n",
       "      <td>96.782842</td>\n",
       "    </tr>\n",
       "    <tr>\n",
       "      <th>5</th>\n",
       "      <td>GB | 2</td>\n",
       "      <td>98.659517</td>\n",
       "    </tr>\n",
       "    <tr>\n",
       "      <th>9</th>\n",
       "      <td>XGB | 2</td>\n",
       "      <td>99.195710</td>\n",
       "    </tr>\n",
       "  </tbody>\n",
       "</table>\n",
       "</div>"
      ],
      "text/plain": [
       "  classfier | strategy number  accuracy %\n",
       "6                     SVM | 1   50.136240\n",
       "0                     KNN | 1   56.130790\n",
       "7                     SVM | 2   72.654155\n",
       "4                      GB | 1   76.021798\n",
       "2                      RF | 1   78.201635\n",
       "8                     XGB | 1   82.016349\n",
       "1                     KNN | 2   93.029491\n",
       "3                      RF | 2   96.782842\n",
       "5                      GB | 2   98.659517\n",
       "9                     XGB | 2   99.195710"
      ]
     },
     "execution_count": 50,
     "metadata": {},
     "output_type": "execute_result"
    }
   ],
   "source": [
    "strategies_classifiers_score = strategies_classifiers_score.sort_values(by='accuracy %')\n",
    "strategies_classifiers_score"
   ]
  },
  {
   "cell_type": "code",
   "execution_count": 51,
   "metadata": {},
   "outputs": [
    {
     "data": {
      "text/plain": [
       "Text(0.5, 0, 'Classifier | Strategy number')"
      ]
     },
     "execution_count": 51,
     "metadata": {},
     "output_type": "execute_result"
    },
    {
     "data": {
      "image/png": "[encoded data removed]",
      "text/plain": [
       "<Figure size 2520x576 with 1 Axes>"
      ]
     },
     "metadata": {},
     "output_type": "display_data"
    }
   ],
   "source": [
    "plt.figure(figsize=(35, 8))\n",
    "plt.plot(strategies_classifiers_score['classfier | strategy number'], strategies_classifiers_score['accuracy %'])\n",
    "plt.ylabel('Classifier accuracy in %')\n",
    "plt.xlabel('Classifier | Strategy number')"
   ]
  },
  {
   "cell_type": "markdown",
   "metadata": {},
   "source": [
    "## Extra credit: try to tune a classifier by changing their default parameters"
   ]
  },
  {
   "cell_type": "markdown",
   "metadata": {},
   "source": [
    "As part of extra credit I will try to play around with support vector machines' parameters as it is the worst performing classification model"
   ]
  },
  {
   "cell_type": "markdown",
   "metadata": {},
   "source": [
    "In an effort to find the best hyper-parameters for such classifier, we will use the grid search tuning technique"
   ]
  },
  {
   "cell_type": "code",
   "execution_count": 52,
   "metadata": {},
   "outputs": [],
   "source": [
    "from sklearn.model_selection import GridSearchCV"
   ]
  },
  {
   "cell_type": "code",
   "execution_count": 53,
   "metadata": {},
   "outputs": [],
   "source": [
    "parameters = [\n",
    "    {\"C\": [1, 10, 100, 1000], \"kernel\": ['linear']},\n",
    "    {\"C\": [1, 10, 100, 1000], \"kernel\": ['rbf'], \"gamma\": [0.5, 0.1, 0.01, 0.001, 0.0001]},\n",
    "    {\"C\": [1], \"kernel\": ['rbf'], \"gamma\": [0.1, 0.2, 0.3, 0.4, 0.5, 0.6, 0.7, 0.8, 0.9, 1.0]}\n",
    "]"
   ]
  },
  {
   "cell_type": "code",
   "execution_count": 54,
   "metadata": {},
   "outputs": [],
   "source": [
    "gs1 = GridSearchCV(estimator=SVM1, param_grid=parameters, \n",
    "                  scoring='accuracy', cv=10, n_jobs=-1)\n",
    "gs1 = gs1.fit(X1_train, y1_train)\n",
    "gs2 = GridSearchCV(estimator=SVM2, param_grid=parameters, \n",
    "                  scoring='accuracy', cv=10, n_jobs=-1)\n",
    "gs2 = gs2.fit(X2_train, y2_train)"
   ]
  },
  {
   "cell_type": "code",
   "execution_count": 55,
   "metadata": {},
   "outputs": [
    {
     "name": "stdout",
     "output_type": "stream",
     "text": [
      "Best Strategy 1 Accuracy \t\t\t0.99\n",
      "Best Strategy 1 Parameters \t {'C': 1000, 'kernel': 'linear'}\n",
      "Best Strategy 2 Accuracy \t\t\t1.00\n",
      "Best Strategy 2 Parameters \t {'C': 1000, 'kernel': 'linear'}\n"
     ]
    }
   ],
   "source": [
    "best_accuracy1 = gs1.best_score_\n",
    "best_parameters1 = gs1.best_params_\n",
    "\n",
    "print(\"Best Strategy 1 Accuracy \\t\\t\\t%.2f\" % best_accuracy1)\n",
    "print(\"Best Strategy 1 Parameters \\t\", best_parameters1)\n",
    "\n",
    "best_accuracy2 = gs2.best_score_\n",
    "best_parameters2 = gs2.best_params_\n",
    "\n",
    "print(\"Best Strategy 2 Accuracy \\t\\t\\t%.2f\" % best_accuracy2)\n",
    "print(\"Best Strategy 2 Parameters \\t\", best_parameters2)"
   ]
  },
  {
   "cell_type": "markdown",
   "metadata": {},
   "source": [
    "Looks like we had an amazing increase in accuracy! Let's try these parameters"
   ]
  },
  {
   "cell_type": "code",
   "execution_count": 56,
   "metadata": {},
   "outputs": [],
   "source": [
    "SVM1, SVM2 = SVC(C=1000, kernel=\"linear\"),SVC(C=1000, kernel=\"linear\")\n",
    "SVM1.fit(X1_train, y1_train)\n",
    "SVM2.fit(X2_train, y2_train)\n",
    "y_predSVM1 = SVM1.predict(X1_test)\n",
    "y_predSVM2 = SVM2.predict(X2_test)"
   ]
  },
  {
   "cell_type": "code",
   "execution_count": 57,
   "metadata": {},
   "outputs": [
    {
     "data": {
      "image/png": "[encoded data removed]",
      "text/plain": [
       "<Figure size 432x288 with 2 Axes>"
      ]
     },
     "metadata": {},
     "output_type": "display_data"
    },
    {
     "name": "stdout",
     "output_type": "stream",
     "text": [
      "              precision    recall  f1-score   support\n",
      "\n",
      "          -1       0.98      1.00      0.99       192\n",
      "           1       1.00      0.98      0.99       175\n",
      "\n",
      "    accuracy                           0.99       367\n",
      "   macro avg       0.99      0.99      0.99       367\n",
      "weighted avg       0.99      0.99      0.99       367\n",
      "\n"
     ]
    }
   ],
   "source": [
    "cm = confusion_matrix(y1_test,y_predSVM1) / confusion_matrix(y1_test,y_predSVM1).astype(np.float).sum()\n",
    "df_cm = pd.DataFrame(cm, range(len(cm[0])), range(len(cm[0])))\n",
    "sn.set(font_scale=1.4)\n",
    "sn.heatmap(df_cm, annot=True, annot_kws={\"size\": 16})\n",
    "plt.show()\n",
    "strategies_classifiers_score = strategies_classifiers_score.append({'classfier | strategy number':'SVM | 1 - Grid search',\n",
    "                                                                   'accuracy %':accuracy_score(y1_test, y_predSVM1)*100},\n",
    "                                                                  ignore_index=True)\n",
    "print(classification_report(y1_test,y_predSVM1))"
   ]
  },
  {
   "cell_type": "code",
   "execution_count": 58,
   "metadata": {},
   "outputs": [
    {
     "data": {
      "image/png": "[encoded data removed]",
      "text/plain": [
       "<Figure size 432x288 with 2 Axes>"
      ]
     },
     "metadata": {},
     "output_type": "display_data"
    },
    {
     "name": "stdout",
     "output_type": "stream",
     "text": [
      "              precision    recall  f1-score   support\n",
      "\n",
      "          -1       0.99      1.00      1.00       185\n",
      "           1       1.00      0.99      1.00       188\n",
      "\n",
      "    accuracy                           1.00       373\n",
      "   macro avg       1.00      1.00      1.00       373\n",
      "weighted avg       1.00      1.00      1.00       373\n",
      "\n"
     ]
    }
   ],
   "source": [
    "cm = confusion_matrix(y2_test,y_predSVM2) / confusion_matrix(y2_test,y_predSVM2).astype(np.float).sum()\n",
    "df_cm = pd.DataFrame(cm, range(len(cm[0])), range(len(cm[0])))\n",
    "sn.set(font_scale=1.4)\n",
    "sn.heatmap(df_cm, annot=True, annot_kws={\"size\": 16})\n",
    "plt.show()\n",
    "strategies_classifiers_score = strategies_classifiers_score.append({'classfier | strategy number':'SVM | 2 - Grid search',\n",
    "                                                                   'accuracy %':accuracy_score(y2_test, y_predSVM2)*100},\n",
    "                                                                  ignore_index=True)\n",
    "print(classification_report(y2_test,y_predSVM2))"
   ]
  },
  {
   "cell_type": "code",
   "execution_count": 59,
   "metadata": {
    "scrolled": false
   },
   "outputs": [
    {
     "data": {
      "text/html": [
       "<div>\n",
       "<style scoped>\n",
       "    .dataframe tbody tr th:only-of-type {\n",
       "        vertical-align: middle;\n",
       "    }\n",
       "\n",
       "    .dataframe tbody tr th {\n",
       "        vertical-align: top;\n",
       "    }\n",
       "\n",
       "    .dataframe thead th {\n",
       "        text-align: right;\n",
       "    }\n",
       "</style>\n",
       "<table border=\"1\" class=\"dataframe\">\n",
       "  <thead>\n",
       "    <tr style=\"text-align: right;\">\n",
       "      <th></th>\n",
       "      <th>classfier | strategy number</th>\n",
       "      <th>accuracy %</th>\n",
       "    </tr>\n",
       "  </thead>\n",
       "  <tbody>\n",
       "    <tr>\n",
       "      <th>0</th>\n",
       "      <td>SVM | 1</td>\n",
       "      <td>50.136240</td>\n",
       "    </tr>\n",
       "    <tr>\n",
       "      <th>1</th>\n",
       "      <td>KNN | 1</td>\n",
       "      <td>56.130790</td>\n",
       "    </tr>\n",
       "    <tr>\n",
       "      <th>2</th>\n",
       "      <td>SVM | 2</td>\n",
       "      <td>72.654155</td>\n",
       "    </tr>\n",
       "    <tr>\n",
       "      <th>3</th>\n",
       "      <td>GB | 1</td>\n",
       "      <td>76.021798</td>\n",
       "    </tr>\n",
       "    <tr>\n",
       "      <th>4</th>\n",
       "      <td>RF | 1</td>\n",
       "      <td>78.201635</td>\n",
       "    </tr>\n",
       "    <tr>\n",
       "      <th>5</th>\n",
       "      <td>XGB | 1</td>\n",
       "      <td>82.016349</td>\n",
       "    </tr>\n",
       "    <tr>\n",
       "      <th>6</th>\n",
       "      <td>KNN | 2</td>\n",
       "      <td>93.029491</td>\n",
       "    </tr>\n",
       "    <tr>\n",
       "      <th>7</th>\n",
       "      <td>RF | 2</td>\n",
       "      <td>96.782842</td>\n",
       "    </tr>\n",
       "    <tr>\n",
       "      <th>8</th>\n",
       "      <td>GB | 2</td>\n",
       "      <td>98.659517</td>\n",
       "    </tr>\n",
       "    <tr>\n",
       "      <th>10</th>\n",
       "      <td>SVM | 1 - Grid search</td>\n",
       "      <td>98.910082</td>\n",
       "    </tr>\n",
       "    <tr>\n",
       "      <th>9</th>\n",
       "      <td>XGB | 2</td>\n",
       "      <td>99.195710</td>\n",
       "    </tr>\n",
       "    <tr>\n",
       "      <th>11</th>\n",
       "      <td>SVM | 2 - Grid search</td>\n",
       "      <td>99.731903</td>\n",
       "    </tr>\n",
       "  </tbody>\n",
       "</table>\n",
       "</div>"
      ],
      "text/plain": [
       "   classfier | strategy number  accuracy %\n",
       "0                      SVM | 1   50.136240\n",
       "1                      KNN | 1   56.130790\n",
       "2                      SVM | 2   72.654155\n",
       "3                       GB | 1   76.021798\n",
       "4                       RF | 1   78.201635\n",
       "5                      XGB | 1   82.016349\n",
       "6                      KNN | 2   93.029491\n",
       "7                       RF | 2   96.782842\n",
       "8                       GB | 2   98.659517\n",
       "10       SVM | 1 - Grid search   98.910082\n",
       "9                      XGB | 2   99.195710\n",
       "11       SVM | 2 - Grid search   99.731903"
      ]
     },
     "execution_count": 59,
     "metadata": {},
     "output_type": "execute_result"
    }
   ],
   "source": [
    "#SVM_scores\n",
    "strategies_classifiers_score = strategies_classifiers_score.sort_values(by='accuracy %')\n",
    "strategies_classifiers_score"
   ]
  },
  {
   "cell_type": "markdown",
   "metadata": {},
   "source": [
    "98% vs 50% for strategy 1 initially, 99% vs 72% for strategy 2 initially"
   ]
  },
  {
   "cell_type": "code",
   "execution_count": 60,
   "metadata": {},
   "outputs": [
    {
     "data": {
      "text/plain": [
       "Text(0.5, 0, 'Classifier | Strategy number')"
      ]
     },
     "execution_count": 60,
     "metadata": {},
     "output_type": "execute_result"
    },
    {
     "data": {
      "image/png": "[encoded data removed]",
      "text/plain": [
       "<Figure size 2520x576 with 1 Axes>"
      ]
     },
     "metadata": {},
     "output_type": "display_data"
    }
   ],
   "source": [
    "plt.figure(figsize=(35, 8))\n",
    "plt.plot(strategies_classifiers_score['classfier | strategy number'], strategies_classifiers_score['accuracy %'])\n",
    "plt.ylabel('Classifier accuracy in %')\n",
    "plt.xlabel('Classifier | Strategy number')"
   ]
  },
  {
   "cell_type": "markdown",
   "metadata": {},
   "source": [
    "Let's try one more: Gradient boosting algorithm tuning by trying different learning rates"
   ]
  },
  {
   "cell_type": "code",
   "execution_count": 61,
   "metadata": {},
   "outputs": [
    {
     "name": "stdout",
     "output_type": "stream",
     "text": [
      "Accuracy score of learning rate = 0.01 of training set is 70.69 % for strategy 1\n",
      "Accuracy score of learning rate = 0.01 of training set is 93.96 % for strategy 2\n",
      "Accuracy score of learning rate = 0.05 of training set is 81.66 % for strategy 1\n",
      "Accuracy score of learning rate = 0.05 of training set is 98.59 % for strategy 2\n",
      "Accuracy score of learning rate = 0.1 of training set is 91.21 % for strategy 1\n",
      "Accuracy score of learning rate = 0.1 of training set is 99.93 % for strategy 2\n",
      "Accuracy score of learning rate = 0.25 of training set is 97.34 % for strategy 1\n",
      "Accuracy score of learning rate = 0.25 of training set is 100.0 % for strategy 2\n",
      "Accuracy score of learning rate = 0.5 of training set is 99.73 % for strategy 1\n",
      "Accuracy score of learning rate = 0.5 of training set is 100.0 % for strategy 2\n",
      "Accuracy score of learning rate = 0.75 of training set is 100.0 % for strategy 1\n",
      "Accuracy score of learning rate = 0.75 of training set is 100.0 % for strategy 2\n",
      "Accuracy score of learning rate = 1 of training set is 100.0 % for strategy 1\n",
      "Accuracy score of learning rate = 1 of training set is 100.0 % for strategy 2\n"
     ]
    }
   ],
   "source": [
    "for lr in [0.01,0.05,0.1,0.25,0.5,0.75,1]:\n",
    "    GB1, GB2 = GradientBoostingClassifier(learning_rate = lr),GradientBoostingClassifier(learning_rate = lr)\n",
    "    GB1.fit(X1_train, y1_train)\n",
    "    GB2.fit(X2_train, y2_train)\n",
    "    \n",
    "    print(f'Accuracy score of learning rate = {lr} of training set is {round(GB1.score(X1_train,y1_train)*100,2)} % for strategy 1')\n",
    "    print(f'Accuracy score of learning rate = {lr} of training set is {round(GB2.score(X2_train, y2_train)*100,2)} % for strategy 2')"
   ]
  },
  {
   "cell_type": "markdown",
   "metadata": {},
   "source": [
    "Very high accuracy score for the biggest learning rates."
   ]
  },
  {
   "cell_type": "code",
   "execution_count": null,
   "metadata": {},
   "outputs": [],
   "source": []
  }
 ],
 "metadata": {
  "kernelspec": {
   "display_name": "Python 3",
   "language": "python",
   "name": "python3"
  },
  "language_info": {
   "codemirror_mode": {
    "name": "ipython",
    "version": 3
   },
   "file_extension": ".py",
   "mimetype": "text/x-python",
   "name": "python",
   "nbconvert_exporter": "python",
   "pygments_lexer": "ipython3",
   "version": "3.8.5"
  }
 },
 "nbformat": 4,
 "nbformat_minor": 4
}
